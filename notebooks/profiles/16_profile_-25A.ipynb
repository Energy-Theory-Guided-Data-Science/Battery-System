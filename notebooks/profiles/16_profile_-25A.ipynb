{
 "cells": [
  {
   "cell_type": "markdown",
   "metadata": {},
   "source": [
    "# Profile -25A\n",
    "---\n",
    "A detailed description of the profiles can be found in the respective excel sheet named \"profiles\""
   ]
  },
  {
   "cell_type": "code",
   "execution_count": null,
   "metadata": {},
   "outputs": [],
   "source": [
    "# library imports\n",
    "import numpy as np\n",
    "import matplotlib.pyplot as plt"
   ]
  },
  {
   "cell_type": "markdown",
   "metadata": {},
   "source": [
    "### Inverter\n",
    "The currrent and voltage was measured at the inverter with values varying in [-90 A, 90 A] and [0 V, 500 V]. The maximum power is 15kW. \n",
    "- positive current: battery is charged\n",
    "- negative current: batter is discharged"
   ]
  },
  {
   "cell_type": "code",
   "execution_count": null,
   "metadata": {},
   "outputs": [],
   "source": [
    "# load inverter data\n",
    "time_inv_cur, cur_inv = np.loadtxt('../../data/fobss_data/data/Profile -25A/inverter/Inverter_Current.csv', delimiter=';', unpack=True)\n",
    "time_inv_volt, volt_inv = np.loadtxt('../../data/fobss_data/data/Profile -25A/inverter/Inverter_Voltage.csv', delimiter=';', unpack=True)"
   ]
  },
  {
   "cell_type": "code",
   "execution_count": null,
   "metadata": {},
   "outputs": [],
   "source": [
    "# normalize CAN time and plot graph\n",
    "time_inv_cur = time_inv_cur - time_inv_cur[0]\n",
    "plt.plot(time_inv_cur, cur_inv)\n",
    "plt.xlabel('time in s')\n",
    "plt.ylabel('current in A')\n",
    "plt.suptitle('Inverter current')"
   ]
  },
  {
   "cell_type": "code",
   "execution_count": null,
   "metadata": {},
   "outputs": [],
   "source": [
    "# normalize CAN time and plot graph\n",
    "time_inv_volt = time_inv_volt - time_inv_volt[0]\n",
    "plt.plot(time_inv_volt, volt_inv)\n",
    "plt.xlabel('time in s')\n",
    "plt.ylabel('voltage in V')\n",
    "plt.suptitle('Inverter voltage')"
   ]
  },
  {
   "cell_type": "markdown",
   "metadata": {},
   "source": [
    "### Battery master\n",
    "Two sensors measured the overall current and voltage."
   ]
  },
  {
   "cell_type": "code",
   "execution_count": null,
   "metadata": {},
   "outputs": [],
   "source": [
    "# load battery data\n",
    "time_bat_cur, cur_bat = np.loadtxt('../../data/fobss_data/data/Profile -25A/battery/Battery_Current.csv', delimiter=';', unpack=True)\n",
    "time_bat_volt, volt_bat = np.loadtxt('../../data/fobss_data/data/Profile -25A/battery/Battery_Voltage.csv', delimiter=';', unpack=True)"
   ]
  },
  {
   "cell_type": "code",
   "execution_count": null,
   "metadata": {},
   "outputs": [],
   "source": [
    "# normalize CAN time and plot graph\n",
    "time_bat_cur = time_bat_cur - time_bat_cur[0] \n",
    "plt.plot(time_bat_cur, cur_bat)\n",
    "plt.xlabel('time in s')\n",
    "plt.ylabel('current in A')\n",
    "plt.suptitle('Battery current')"
   ]
  },
  {
   "cell_type": "code",
   "execution_count": null,
   "metadata": {},
   "outputs": [],
   "source": [
    "# normalize CAN time and plot graph\n",
    "time_bat_volt = time_bat_volt - time_bat_volt[0]\n",
    "plt.plot(time_bat_volt, volt_bat)\n",
    "plt.xlabel('time in s')\n",
    "plt.ylabel('voltage in V')\n",
    "plt.suptitle('Battery voltage')"
   ]
  },
  {
   "cell_type": "markdown",
   "metadata": {},
   "source": [
    "### Battery slaves\n",
    "The slaves are measuring the temperature and voltage of each battery pack hence there are 4. Since each pack contains 11 cells each slaves logs the two parameters for each of those. For simplicity the following plots only contain one value for each pack that represents the average over all 11 cells."
   ]
  },
  {
   "cell_type": "code",
   "execution_count": null,
   "metadata": {},
   "outputs": [],
   "source": [
    "# load cell temperature data\n",
    "time_cells_temp, temp_slave_0_0, temp_slave_0_1, temp_slave_0_2, temp_slave_0_3, temp_slave_0_4, temp_slave_0_5, temp_slave_0_6, temp_slave_0_7, temp_slave_0_8, temp_slave_0_9, temp_slave_0_10 = np.loadtxt('../../data/fobss_data/data/Profile -25A/cells/Slave_0_Cell_Temperatures.csv', delimiter=';', unpack=True)\n",
    "time_cells_temp, temp_slave_1_0, temp_slave_1_1, temp_slave_1_2, temp_slave_1_3, temp_slave_1_4, temp_slave_1_5, temp_slave_1_6, temp_slave_1_7, temp_slave_1_8, temp_slave_1_9, temp_slave_1_10 = np.loadtxt('../../data/fobss_data/data/Profile -25A/cells/Slave_1_Cell_Temperatures.csv', delimiter=';', unpack=True)\n",
    "time_cells_temp, temp_slave_2_0, temp_slave_2_1, temp_slave_2_2, temp_slave_2_3, temp_slave_2_4, temp_slave_2_5, temp_slave_2_6, temp_slave_2_7, temp_slave_2_8, temp_slave_2_9, temp_slave_2_10 = np.loadtxt('../../data/fobss_data/data/Profile -25A/cells/Slave_2_Cell_Temperatures.csv', delimiter=';', unpack=True)\n",
    "time_cells_temp, temp_slave_3_0, temp_slave_3_1, temp_slave_3_2, temp_slave_3_3, temp_slave_3_4, temp_slave_3_5, temp_slave_3_6, temp_slave_3_7, temp_slave_3_8, temp_slave_3_9, temp_slave_3_10 = np.loadtxt('../../data/fobss_data/data/Profile -25A/cells/Slave_3_Cell_Temperatures.csv', delimiter=';', unpack=True)"
   ]
  },
  {
   "cell_type": "code",
   "execution_count": null,
   "metadata": {},
   "outputs": [],
   "source": [
    "# compute average temperatures for each slave\n",
    "temp_slave_0 = [temp_slave_0_0, temp_slave_0_1, temp_slave_0_2, temp_slave_0_3, temp_slave_0_4, temp_slave_0_5, temp_slave_0_6, temp_slave_0_7, temp_slave_0_8, temp_slave_0_9, temp_slave_0_10]\n",
    "temp_slave_0 = np.mean(temp_slave_0, axis=0)\n",
    "temp_slave_1 = [temp_slave_1_0, temp_slave_1_1, temp_slave_1_2, temp_slave_1_3, temp_slave_1_4, temp_slave_1_5, temp_slave_1_6, temp_slave_1_7, temp_slave_1_8, temp_slave_1_9, temp_slave_1_10]\n",
    "temp_slave_1 = np.mean(temp_slave_1, axis=0)\n",
    "temp_slave_2 = [temp_slave_2_0, temp_slave_2_1, temp_slave_2_2, temp_slave_2_3, temp_slave_2_4, temp_slave_2_5, temp_slave_2_6, temp_slave_2_7, temp_slave_2_8, temp_slave_2_9, temp_slave_2_10]\n",
    "temp_slave_2 = np.mean(temp_slave_2, axis=0)\n",
    "temp_slave_3 = [temp_slave_3_0, temp_slave_3_1, temp_slave_3_2, temp_slave_3_3, temp_slave_3_4, temp_slave_3_5, temp_slave_3_6, temp_slave_3_7, temp_slave_3_8, temp_slave_3_9, temp_slave_3_10]\n",
    "temp_slave_3 = np.mean(temp_slave_3, axis=0)"
   ]
  },
  {
   "cell_type": "code",
   "execution_count": null,
   "metadata": {},
   "outputs": [],
   "source": [
    "# normalize CAN time and plot graph\n",
    "time_cells_temp = time_cells_temp - time_cells_temp[0]\n",
    "plt.plot(time_cells_temp, temp_slave_0, label=\"slave 0\")\n",
    "plt.plot(time_cells_temp, temp_slave_1, label=\"slave 1\")\n",
    "plt.plot(time_cells_temp, temp_slave_2, label=\"slave 2\")\n",
    "plt.plot(time_cells_temp, temp_slave_3, label=\"slave 3\")\n",
    "plt.legend()\n",
    "plt.xlabel('time in s')\n",
    "plt.ylabel('temperature in celius')\n",
    "plt.suptitle('Average cell temperature')"
   ]
  },
  {
   "cell_type": "code",
   "execution_count": null,
   "metadata": {},
   "outputs": [],
   "source": [
    "# load cell voltage data\n",
    "time_cells_volt, volt_slave_0_0, volt_slave_0_1, volt_slave_0_2, volt_slave_0_3, volt_slave_0_4, volt_slave_0_5, volt_slave_0_6, volt_slave_0_7, volt_slave_0_8, volt_slave_0_9, volt_slave_0_10 = np.loadtxt('../../data/fobss_data/data/Profile -25A/cells/Slave_0_Cell_Voltages.csv', delimiter=';', unpack=True)\n",
    "time_cells_volt, volt_slave_1_0, volt_slave_1_1, volt_slave_1_2, volt_slave_1_3, volt_slave_1_4, volt_slave_1_5, volt_slave_1_6, volt_slave_1_7, volt_slave_1_8, volt_slave_1_9, volt_slave_1_10 = np.loadtxt('../../data/fobss_data/data/Profile -25A/cells/Slave_1_Cell_Voltages.csv', delimiter=';', unpack=True)\n",
    "time_cells_volt, volt_slave_2_0, volt_slave_2_1, volt_slave_2_2, volt_slave_2_3, volt_slave_2_4, volt_slave_2_5, volt_slave_2_6, volt_slave_2_7, volt_slave_2_8, volt_slave_2_9, volt_slave_2_10 = np.loadtxt('../../data/fobss_data/data/Profile -25A/cells/Slave_2_Cell_Voltages.csv', delimiter=';', unpack=True)\n",
    "time_cells_volt, volt_slave_3_0, volt_slave_3_1, volt_slave_3_2, volt_slave_3_3, volt_slave_3_4, volt_slave_3_5, volt_slave_3_6, volt_slave_3_7, volt_slave_3_8, volt_slave_3_9, volt_slave_3_10 = np.loadtxt('../../data/fobss_data/data/Profile -25A/cells/Slave_3_Cell_Voltages.csv', delimiter=';', unpack=True)"
   ]
  },
  {
   "cell_type": "code",
   "execution_count": null,
   "metadata": {},
   "outputs": [],
   "source": [
    "# compute average temperatures for each slave\n",
    "volt_slave_0 = [volt_slave_0_0, volt_slave_0_1, volt_slave_0_2, volt_slave_0_3, volt_slave_0_4, volt_slave_0_5, volt_slave_0_6, volt_slave_0_7, volt_slave_0_8, volt_slave_0_9, volt_slave_0_10]\n",
    "volt_slave_0 = np.mean(volt_slave_0, axis=0)\n",
    "volt_slave_1 = [volt_slave_1_0, volt_slave_1_1, volt_slave_1_2, volt_slave_1_3, volt_slave_1_4, volt_slave_1_5, volt_slave_1_6, volt_slave_1_7, volt_slave_1_8, volt_slave_1_9, volt_slave_1_10]\n",
    "volt_slave_1 = np.mean(volt_slave_1, axis=0)\n",
    "volt_slave_2 = [volt_slave_2_0, volt_slave_2_1, volt_slave_2_2, volt_slave_2_3, volt_slave_2_4, volt_slave_2_5, volt_slave_2_6, volt_slave_2_7, volt_slave_2_8, volt_slave_2_9, volt_slave_2_10]\n",
    "volt_slave_2 = np.mean(volt_slave_2, axis=0)\n",
    "volt_slave_3 = [volt_slave_3_0, volt_slave_3_1, volt_slave_3_2, volt_slave_3_3, volt_slave_3_4, volt_slave_3_5, volt_slave_3_6, volt_slave_3_7, volt_slave_3_8, volt_slave_3_9, volt_slave_3_10]\n",
    "volt_slave_3 = np.mean(volt_slave_3, axis=0)"
   ]
  },
  {
   "cell_type": "code",
   "execution_count": null,
   "metadata": {},
   "outputs": [],
   "source": [
    "# normalize CAN time and plot graph\n",
    "time_cells_volt = time_cells_volt - time_cells_volt[0]\n",
    "plt.plot(time_cells_volt, volt_slave_0, label=\"slave 0\")\n",
    "plt.plot(time_cells_volt, volt_slave_1, label=\"slave 1\")\n",
    "plt.plot(time_cells_volt, volt_slave_2, label=\"slave 2\")\n",
    "plt.plot(time_cells_volt, volt_slave_3, label=\"slave 3\")\n",
    "plt.legend()\n",
    "plt.xlabel('time in s')\n",
    "plt.ylabel('voltage in V')\n",
    "plt.suptitle('Average cell voltage')"
   ]
  }
 ],
 "metadata": {
  "kernelspec": {
   "display_name": "Python 3",
   "language": "python",
   "name": "python3"
  },
  "language_info": {
   "codemirror_mode": {
    "name": "ipython",
    "version": 3
   },
   "file_extension": ".py",
   "mimetype": "text/x-python",
   "name": "python",
   "nbconvert_exporter": "python",
   "pygments_lexer": "ipython3",
   "version": "3.8.3"
  }
 },
 "nbformat": 4,
 "nbformat_minor": 4
}
