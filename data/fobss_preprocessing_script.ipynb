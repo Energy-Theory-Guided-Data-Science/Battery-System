{
 "cells": [
  {
   "cell_type": "markdown",
   "metadata": {},
   "source": [
    "### FOBSS Preprocessing Script\n",
    "---\n",
    "Notebook for trying first data preprocessing steps"
   ]
  },
  {
   "cell_type": "markdown",
   "metadata": {},
   "source": [
    "### Selecting relevant part of Ri Jumps 15A Profile"
   ]
  },
  {
   "cell_type": "code",
   "execution_count": null,
   "metadata": {},
   "outputs": [],
   "source": [
    "import numpy as np\n",
    "import matplotlib.pyplot as plt\n",
    "\n",
    "cur_master = np.loadtxt('../data/fobss_data/data/Ri Jumps 25A/battery/Battery_Current.csv', delimiter=';')\n",
    "cur_master = cur_master[:100000]\n",
    "\n",
    "cur_inv = np.loadtxt('../data/fobss_data/data/Ri Jumps 25A/inverter/Inverter_Current.csv', delimiter=';')\n",
    "cur_inv = cur_inv[:350000]\n",
    "\n",
    "volt_slave_0_cell_4 = np.loadtxt('../data/fobss_data/data/Ri Jumps 25A/cells/Slave_0_Cell_Voltages.csv', delimiter=';')\n",
    "volt_slave_0_cell_4 = volt_slave_0_cell_4[:100000]"
   ]
  },
  {
   "cell_type": "code",
   "execution_count": null,
   "metadata": {},
   "outputs": [],
   "source": [
    "plt.plot(cur_master[:,1]) \n",
    "cur_master.shape"
   ]
  },
  {
   "cell_type": "code",
   "execution_count": null,
   "metadata": {},
   "outputs": [],
   "source": [
    "plt.plot(volt_slave_0_cell_4[:,4])\n",
    "volt_slave_0_cell_4.shape"
   ]
  },
  {
   "cell_type": "markdown",
   "metadata": {},
   "source": [
    "### Data Subsample Function"
   ]
  },
  {
   "cell_type": "code",
   "execution_count": null,
   "metadata": {},
   "outputs": [],
   "source": [
    "def subsample(sequence, d_t):\n",
    "\n",
    "    subsampled_sequence = np.array([])\n",
    "\n",
    "    for i in range(0, len(sequence), d_t - 1) :\n",
    "        \n",
    "        if len(sequence) < i + d_t:\n",
    "            # check if at end of sequence\n",
    "            window = sequence[i:len(sequence)]\n",
    "        else:\n",
    "            window = sequence[i:i + d_t]\n",
    "        \n",
    "        # search for most frequent element in observed window\n",
    "        uniqw, inverse = np.unique(window, return_inverse=True)\n",
    "        frequent_element_index = np.bincount(inverse).argmax()\n",
    "        frequent_element = window[frequent_element_index]\n",
    "    \n",
    "        # add most frequent element to subsample\n",
    "        subsampled_sequence = np.append(subsampled_sequence, frequent_element)\n",
    "        \n",
    "    return subsampled_sequence"
   ]
  },
  {
   "cell_type": "code",
   "execution_count": null,
   "metadata": {},
   "outputs": [],
   "source": [
    "def smoothing(sequence, d_t):\n",
    "\n",
    "    subsampled_sequence = np.array([])\n",
    "\n",
    "    for i in range(0, len(sequence), d_t - 1) :\n",
    "        \n",
    "        if len(sequence) < i + d_t:\n",
    "            # check if at end of sequence\n",
    "            window = sequence[i:len(sequence)]\n",
    "            seq = np.ones((len(sequence) - i, 1))\n",
    "        else:\n",
    "            window = sequence[i:i + d_t]\n",
    "            seq = np.ones((d_t, 1))\n",
    "        \n",
    "        # search for most frequent element in observed window\n",
    "        uniqw, inverse = np.unique(window, return_inverse=True)\n",
    "        frequent_element_index = np.bincount(inverse).argmax()\n",
    "        frequent_element = window[frequent_element_index]\n",
    "    \n",
    "        # add most frequent element to subsample\n",
    "        subsampled_sequence = np.append(subsampled_sequence, seq * frequent_element)\n",
    "        \n",
    "    return subsampled_sequence"
   ]
  },
  {
   "cell_type": "code",
   "execution_count": null,
   "metadata": {},
   "outputs": [],
   "source": [
    "import numpy as np\n",
    "import matplotlib.pyplot as plt\n",
    "\n",
    "cur_master = np.loadtxt('../data/fobss_data/data/Profile 10A/battery/Battery_Current.csv', delimiter=';')\n",
    "cur_master = cur_master[500:1000]\n",
    "\n",
    "volt_slave_0_cell_4 = np.loadtxt('../data/fobss_data/data/Profile 10A/cells/Slave_0_Cell_Voltages.csv', delimiter=';')\n",
    "volt_slave_0_cell_4 = volt_slave_0_cell_4[500:1000]"
   ]
  },
  {
   "cell_type": "code",
   "execution_count": null,
   "metadata": {},
   "outputs": [],
   "source": [
    "plt.plot(volt_slave_0_cell_4[:,4])\n",
    "volt_slave_0_cell_4.shape"
   ]
  },
  {
   "cell_type": "code",
   "execution_count": null,
   "metadata": {},
   "outputs": [],
   "source": [
    "subsample = subsample(volt_slave_0_cell_4[:,4], 10)\n",
    "plt.plot(subsample)\n",
    "subsample.shape"
   ]
  },
  {
   "cell_type": "code",
   "execution_count": null,
   "metadata": {},
   "outputs": [],
   "source": [
    "smoothing = smoothing(volt_slave_0_cell_4[:,4], 10)\n",
    "plt.plot(smoothing)\n",
    "smoothing.shape"
   ]
  },
  {
   "cell_type": "markdown",
   "metadata": {},
   "source": [
    "### Subsampling and Smoothing using libraries"
   ]
  },
  {
   "cell_type": "code",
   "execution_count": null,
   "metadata": {},
   "outputs": [],
   "source": [
    "from scipy import ndimage \n",
    "\n",
    "def subsample(sequence, d_sample):\n",
    "    return sequence[::d_sample]\n",
    "\n",
    "def smooth(sequence, sigma):\n",
    "    return ndimage.filters.gaussian_filter(sequence, sigma)\n",
    "\n",
    "# ------------------------------------------- Prepare Test Data -------------------------------------------\n",
    "test_cur_master = np.loadtxt('../data/fobss_data/data/Ri Jumps 25A/battery/Battery_Current.csv', delimiter=';')\n",
    "test_cur_master = test_cur_master[80000:100000,1]\n",
    "test_volt_slave_0_cell_4 = np.loadtxt('../data/fobss_data/data/Ri Jumps 25A/cells/Slave_0_Cell_Voltages.csv', delimiter=';')\n",
    "test_volt_slave_0_cell_4 = test_volt_slave_0_cell_4[80000:100000, 4]\n",
    "\n",
    "# subsample and smooth data \n",
    "# test_cur_master = subsample(test_cur_master, 10)\n",
    "# test_cur_master = smooth(test_cur_master, 10)\n",
    "\n",
    "test_volt_slave_0_cell_4 = subsample(test_volt_slave_0_cell_4, 10)\n",
    "test_volt_slave_0_cell_4 = smooth(test_volt_slave_0_cell_4, 10)\n",
    "\n",
    "plt.plot(test_volt_slave_0_cell_4[600:700])"
   ]
  },
  {
   "cell_type": "markdown",
   "metadata": {},
   "source": [
    "### Align two arrays of different length"
   ]
  },
  {
   "cell_type": "code",
   "execution_count": null,
   "metadata": {},
   "outputs": [],
   "source": [
    "from scipy import ndimage \n",
    "\n",
    "train_cur_inv = np.loadtxt('../data/fobss_data/data/Profile 10A Run 040618_2/inverter/Inverter_Current.csv', delimiter=';')\n",
    "train_cur_inv = train_cur_inv[:,1]\n",
    "train_volt_slave_0_cell_4 = np.loadtxt('../data/fobss_data/data/Profile 10A Run 040618_2/cells/Slave_0_Cell_Voltages.csv', delimiter=';')\n",
    "train_volt_slave_0_cell_4 = train_volt_slave_0_cell_4[:,4]\n",
    "train_volt_slave_0_cell_4 = ndimage.filters.gaussian_filter(train_volt_slave_0_cell_4, 10)\n",
    "\n",
    "factor = train_cur_inv.shape[0] / train_volt_slave_0_cell_4.shape[0]\n",
    "\n",
    "train_cur_inv_ = list()\n",
    "for i in range(len(train_volt_slave_0_cell_4)):\n",
    "    train_cur_inv_.append(train_cur_inv[int(np.round(i * factor))])\n",
    "\n",
    "train_cur_inv_resized = np.array(train_cur_inv_)\n",
    "\n",
    "# plot graph\n",
    "plt.subplots(figsize = (15,15))\n",
    "plt.subplot(2,1,1)\n",
    "plt.plot(train_cur_inv_resized, label=\"Inverter Current\")\n",
    "plt.legend()\n",
    "plt.subplot(2,1,2)\n",
    "plt.plot(train_volt_slave_0_cell_4, label=\"Run 1\", color='red')\n",
    "plt.legend()"
   ]
  },
  {
   "cell_type": "code",
   "execution_count": null,
   "metadata": {},
   "outputs": [],
   "source": []
  }
 ],
 "metadata": {
  "kernelspec": {
   "display_name": "battery-system",
   "language": "python",
   "name": "battery-system"
  },
  "language_info": {
   "codemirror_mode": {
    "name": "ipython",
    "version": 3
   },
   "file_extension": ".py",
   "mimetype": "text/x-python",
   "name": "python",
   "nbconvert_exporter": "python",
   "pygments_lexer": "ipython3",
   "version": "3.8.3"
  }
 },
 "nbformat": 4,
 "nbformat_minor": 4
}
