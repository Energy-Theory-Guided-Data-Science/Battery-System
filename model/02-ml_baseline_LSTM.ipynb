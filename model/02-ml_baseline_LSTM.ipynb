{
 "cells": [
  {
   "cell_type": "code",
   "execution_count": null,
   "metadata": {},
   "outputs": [],
   "source": [
    "# import tensorflow as tf\n",
    "# from tensorflow.keras import backend as K\n",
    "# from tensorflow.keras.losses import mean_squared_error\n",
    "\n",
    "# def approx_loss(y_pred, params):\n",
    "#     y_lower = tf.constant(params['y_l'], shape=(len(y_pred), 1))\n",
    "#     y_upper = tf.constant(params['y_u'], shape=(len(y_pred), 1))\n",
    "    \n",
    "#     return K.sum(K.relu(y_lower - y_pred) + K.relu(y_pred - y_upper))\n",
    "\n",
    "                 \n",
    "# def combined_loss(params):\n",
    "#     # wrapper function needed for the custom loss function to be accepted from keras\n",
    "#     def loss(y_true, y_pred):\n",
    "#         data_based_loss = mean_squared_error(y_true, y_pred)\n",
    "#         approximation_loss = approx_loss(y_pred, params)\n",
    "#         lambda_A = params['lambda_A']\n",
    "\n",
    "#         return data_based_loss + lambda_A * approximation_loss\n",
    "#     return fun\n",
    "\n",
    "# HYPER_PARAMS = {'y_l':3,\n",
    "#                 'y_u':4,\n",
    "#                 'lambda_A': 0.5,\n",
    "#                 }\n",
    "\n",
    "# approx_loss([0, 1, 2, 3], HYPER_PARAMS)"
   ]
  },
  {
   "cell_type": "code",
   "execution_count": null,
   "metadata": {},
   "outputs": [],
   "source": [
    "import numpy as np\n",
    "import tensorflow as tf\n",
    "\n",
    "import data_preprocessing as util\n",
    "import lstm_model as lstm\n",
    "\n",
    "tf.compat.v1.set_random_seed(1)"
   ]
  },
  {
   "cell_type": "markdown",
   "metadata": {},
   "source": [
    "### Set Hyperparameters"
   ]
  },
  {
   "cell_type": "code",
   "execution_count": null,
   "metadata": {},
   "outputs": [],
   "source": [
    "HYPER_PARAMS = {'n_epochs': 10,\n",
    "                'd_sample': 1,\n",
    "                'gauss_sigma': 10 , \n",
    "                'n_steps': 50,\n",
    "                'n_features':2,\n",
    "                'n_lstm_units_1': 50,\n",
    "                'alpha_1': 0.1,\n",
    "                'n_lstm_units_2': 20,\n",
    "                'alpha_2': 0.1,\n",
    "                'n_dense_units': 10,\n",
    "                'activation': 'tanh',\n",
    "                'dropout': 0.2,\n",
    "                'learning_rate': 0.001,\n",
    "                'early_stopping': 20,\n",
    "                'optimizer': 'Adam',\n",
    "                'loss': 'mse',\n",
    "                'metric': 'mae',\n",
    "                'y_l':3,\n",
    "                'y_u':4,\n",
    "                'lambda_A': 0.5,\n",
    "                }"
   ]
  },
  {
   "cell_type": "markdown",
   "metadata": {},
   "source": [
    "### Prepare Training Data"
   ]
  },
  {
   "cell_type": "code",
   "execution_count": null,
   "metadata": {
    "scrolled": true
   },
   "outputs": [],
   "source": [
    "X_train, y_train, scalers_train = util.prepare_data(HYPER_PARAMS, ['Profile 10A'], 0, 4)"
   ]
  },
  {
   "cell_type": "markdown",
   "metadata": {},
   "source": [
    "### Initialize and Train Model"
   ]
  },
  {
   "cell_type": "code",
   "execution_count": null,
   "metadata": {},
   "outputs": [],
   "source": [
    "lstm = lstm.Model()\n",
    "lstm.initialize(HYPER_PARAMS)"
   ]
  },
  {
   "cell_type": "code",
   "execution_count": null,
   "metadata": {},
   "outputs": [],
   "source": [
    "lstm.train(X_train, y_train, scalers_train)\n",
    "\n",
    "# save model and hyperparameters\n",
    "MODEL_ID = str(np.random.randint(10000))\n",
    "lstm.model.save('trained_models/' + str(MODEL_ID))\n",
    "np.save('trained_models/' + str(MODEL_ID) + '/hyperparameters', HYPER_PARAMS)"
   ]
  },
  {
   "cell_type": "markdown",
   "metadata": {},
   "source": [
    "### Prepare Validation & Test Data"
   ]
  },
  {
   "cell_type": "code",
   "execution_count": null,
   "metadata": {},
   "outputs": [],
   "source": [
    "X_validation, y_validation, scalers_validation = util.prepare_data(HYPER_PARAMS, ['Profile 10A'], 0, 4)\n",
    "X_test, y_test, scalers_test = util.prepare_data(HYPER_PARAMS, ['Profile 10A'], 0, 4)\n",
    "\n",
    "scalers = scalers_train, scalers_validation, scalers_test \n",
    "# scalers shape: ((train_cur, train_volt), (val_cur, val_volt), (test_cur, test_volt))"
   ]
  },
  {
   "cell_type": "markdown",
   "metadata": {},
   "source": [
    "### Test Model"
   ]
  },
  {
   "cell_type": "code",
   "execution_count": null,
   "metadata": {},
   "outputs": [],
   "source": [
    "lstm.test(X_train, y_train, X_validation, y_validation, X_test, y_test, scalers)"
   ]
  },
  {
   "cell_type": "code",
   "execution_count": null,
   "metadata": {},
   "outputs": [],
   "source": [
    " "
   ]
  }
 ],
 "metadata": {
  "kernelspec": {
   "display_name": "battery-system",
   "language": "python",
   "name": "battery-system"
  },
  "language_info": {
   "codemirror_mode": {
    "name": "ipython",
    "version": 3
   },
   "file_extension": ".py",
   "mimetype": "text/x-python",
   "name": "python",
   "nbconvert_exporter": "python",
   "pygments_lexer": "ipython3",
   "version": "3.8.3"
  }
 },
 "nbformat": 4,
 "nbformat_minor": 4
}
