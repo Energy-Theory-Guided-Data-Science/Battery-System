{
 "cells": [
  {
   "cell_type": "code",
   "execution_count": 1,
   "metadata": {},
   "outputs": [],
   "source": [
    "import numpy as np\n",
    "import tensorflow as tf\n",
    "import matplotlib.pyplot as plt\n",
    "from tensorflow import keras\n",
    "from tensorflow.keras import layers\n",
    "from sklearn.preprocessing import MinMaxScaler\n",
    "from scipy import ndimage \n",
    "tf.compat.v1.set_random_seed(1)"
   ]
  },
  {
   "cell_type": "code",
   "execution_count": 2,
   "metadata": {},
   "outputs": [],
   "source": [
    "# ------------------------------------------- Utility Functions -------------------------------------------\n",
    "\"\"\" Creates subsequences of the original sequence to fit LSTM structure\n",
    " \n",
    "Args:\n",
    "    sequence_1: the first sequence which gets converted into multiple subarrays of length: n_steps\n",
    "    sequence_2: the second sequence, each n_steps'th element will be part of the output array\n",
    "    n_steps: the amount of time steps used as an input into the LSTM for prediction\n",
    "\n",
    "Returns:\n",
    "    A tuple of 2 numpy arrays in the required format\n",
    "    \n",
    "    X.shape = (X.shape[0] - n_steps, n_steps)\n",
    "    y.shape = (X.shape[0] - n_steps, 1)\n",
    "\n",
    "\"\"\"\n",
    "def subsequences(sequence_X, sequence_y, n_steps):\n",
    "    if n_steps > len(sequence_X):\n",
    "        raise Exception('subsequences: n_steps should not exceed the sequence length')\n",
    "    \n",
    "    X, y = list(), list()\n",
    "    for i in range(len(sequence_X)):\n",
    "        end_ix = i + n_steps\n",
    "\n",
    "        if end_ix > len(sequence_X):\n",
    "            break\n",
    "\n",
    "        X.append(sequence_X[i:end_ix])\n",
    "        y.append(sequence_y[end_ix-1])\n",
    "        \n",
    "    return np.array(X), np.array(y)\n",
    "\n",
    "\n",
    "\"\"\" Subsample array to decrease the amount of data\n",
    "\n",
    "Args:\n",
    "    sequence: the input array to be subsampled\n",
    "    d_sample: sample frequency, meaning every d_sample'th element will be part of the output\n",
    "    \n",
    "Returns:\n",
    "    The subsampled array\n",
    "\n",
    "\"\"\"\n",
    "def subsample(sequence, d_sample):\n",
    "    return sequence[::d_sample]\n",
    "\n",
    "\n",
    "\"\"\" Smooth array to decrease measurement noise\n",
    "\n",
    "Args: \n",
    "    sequence: the input array to be smoothed\n",
    "    sigma: parameter for the gauss filtering\n",
    "\n",
    "Returns:\n",
    "    The smoothed array\n",
    "\"\"\"\n",
    "def smooth(sequence, sigma):\n",
    "    return ndimage.filters.gaussian_filter(sequence, sigma)\n",
    "\n",
    "\n",
    "\"\"\" Aligns two sequences\n",
    "\n",
    "    In this context this means subsampling the first array so that it afterwards has the same size as the second array\n",
    "    \n",
    "Args: \n",
    "    sequence_1: arrray to be aligned\n",
    "    sequence_2: array to be aligned to\n",
    "    \n",
    "Returns:\n",
    "    The algined array\n",
    "\"\"\"\n",
    "def align(sequence_1, sequence_2):\n",
    "    if len(sequence_1) < len(sequence_2):\n",
    "        raise Exception('align: missmatch of sequence lengths')\n",
    "    \n",
    "    sample_ratio = sequence_1.shape[0] / sequence_2.shape[0]\n",
    "\n",
    "    aligned_sequence = list()\n",
    "    for i in range(len(sequence_2)):\n",
    "        aligned_sequence.append(sequence_1[int(np.round(i * sample_ratio))])\n",
    "\n",
    "    aligned_sequence = np.array(aligned_sequence)\n",
    "    \n",
    "    return aligned_sequence\n",
    "\n",
    "\n",
    "\"\"\" Prepares the data for input into the LSTM\n",
    "\n",
    "    Preparation incudes:\n",
    "    subsampling, smoothing, aligning differnt sized sequences and reshaping the sequence to the requested format\n",
    "    \n",
    "Args:\n",
    "    input_sequence: the input feature sequence\n",
    "    label_sequence: the output/groud truth sequence\n",
    "    aligned: indicates if input and label sequence are of equal size or need alignment\n",
    "    d_sample: sample frequency\n",
    "    n_steps: the amount of time steps used as an input into the LSTM for prediction\n",
    "    sigma: parameter for the data smoothing\n",
    "\n",
    "Returns:\n",
    "    A tuple of 3 values. The prepared input sequence X, the output sequence of labels y and the scaler component for y. \n",
    "    This is needed afterwards to scale the output back to the original value range\n",
    "\"\"\"\n",
    "def prepare_data(input_sequence, label_sequence, aligned, d_sample, n_steps, sigma):\n",
    "    # align data if not of equal size\n",
    "    if not aligned:        \n",
    "        input_sequence = align(input_sequence, label_sequence)\n",
    "\n",
    "    # subsample and smooth data \n",
    "    input_sequence_ = subsample(input_sequence, d_sample)\n",
    "    input_sequence_ = smooth(input_sequence_, gauss_sigma)\n",
    "    \n",
    "    label_sequence_ = subsample(label_sequence, d_sample)\n",
    "    label_sequence_ = smooth(label_sequence_, gauss_sigma)\n",
    "\n",
    "    # convert into X and y sequences\n",
    "    X, y = subsequences(input_sequence_, label_sequence_, n_steps)\n",
    "    y = np.reshape(y, (-1, 1))\n",
    "\n",
    "    # fit and scale X\n",
    "    scaler_X = MinMaxScaler(feature_range = (0, 1))\n",
    "    scaler_X.fit(X)\n",
    "    X_scaled = scaler_X.transform(X)\n",
    "\n",
    "    # fit and scale y\n",
    "    scaler_y = MinMaxScaler(feature_range = (0, 1))\n",
    "    scaler_y.fit(y)\n",
    "    y_scaled = scaler_y.transform(y)\n",
    "\n",
    "    # reshape into correct format\n",
    "    X_scaled = X_scaled.reshape(X_scaled.shape[0], X_scaled.shape[1], 1)\n",
    "    \n",
    "    return X_scaled, y_scaled, scaler_y"
   ]
  },
  {
   "cell_type": "code",
   "execution_count": 3,
   "metadata": {},
   "outputs": [],
   "source": [
    "# ------------------------------------------- Hyperparameters -------------------------------------------\n",
    "n_steps = 100\n",
    "n_features = 2\n",
    "n_lstm_units_1 = 100\n",
    "n_lstm_units_2 = 50\n",
    "n_dense_units = 1\n",
    "n_epochs = 20\n",
    "\n",
    "d_sample = 1\n",
    "gauss_sigma = 10"
   ]
  },
  {
   "cell_type": "code",
   "execution_count": 4,
   "metadata": {},
   "outputs": [
    {
     "name": "stdout",
     "output_type": "stream",
     "text": [
      "(2901, 100, 2) (2901, 1)\n"
     ]
    }
   ],
   "source": [
    "# ------------------------------------------- Prepare Training Data -------------------------------------------\n",
    "# load data\n",
    "train_cur_inv = np.loadtxt('../data/fobss_data/data/Profile 10A/inverter/Inverter_Current.csv', delimiter=';')\n",
    "train_cur_inv = train_cur_inv[:,1]\n",
    "train_volt_master = np.loadtxt('../data/fobss_data/data/Profile 10A/battery/Battery_Voltage.csv', delimiter=';')\n",
    "train_volt_master = train_volt_master[:,1]\n",
    "train_volt_slave_0_cell_4 = np.loadtxt('../data/fobss_data/data/Profile 10A/cells/Slave_0_Cell_Voltages.csv', delimiter=';')\n",
    "train_volt_slave_0_cell_4 = train_volt_slave_0_cell_4[:,4]\n",
    "\n",
    "# prepare LSTM input\n",
    "X1_train, y_train, scaler_y = prepare_data(train_cur_inv, train_volt_slave_0_cell_4, False, d_sample, n_steps, gauss_sigma)\n",
    "X2_train, y_train, scaler_y = prepare_data(train_volt_master, train_volt_slave_0_cell_4, False, d_sample, n_steps, gauss_sigma)\n",
    "X_train = np.append(X1_train, X2_train, axis=2)\n",
    "\n",
    "print(X_train.shape, y_train.shape)"
   ]
  },
  {
   "cell_type": "code",
   "execution_count": 5,
   "metadata": {},
   "outputs": [
    {
     "name": "stdout",
     "output_type": "stream",
     "text": [
      "Model: \"sequential\"\n",
      "_________________________________________________________________\n",
      "Layer (type)                 Output Shape              Param #   \n",
      "=================================================================\n",
      "lstm (LSTM)                  (None, 100, 100)          41200     \n",
      "_________________________________________________________________\n",
      "lstm_1 (LSTM)                (None, 50)                30200     \n",
      "_________________________________________________________________\n",
      "dense (Dense)                (None, 1)                 51        \n",
      "=================================================================\n",
      "Total params: 71,451\n",
      "Trainable params: 71,451\n",
      "Non-trainable params: 0\n",
      "_________________________________________________________________\n"
     ]
    }
   ],
   "source": [
    "# ------------------------------------------- Initialize LSTM -------------------------------------------\n",
    "model = keras.Sequential()\n",
    "\n",
    "# Adding the first LSTM layer and some Dropout regularisation\n",
    "model.add(layers.LSTM(units = n_lstm_units_1, activation='relu', input_shape = (n_steps, n_features), return_sequences=True))\n",
    "\n",
    "model.add(layers.LSTM(units = n_lstm_units_2))\n",
    "\n",
    "# Adding the output layer\n",
    "model.add(layers.Dense(units = n_dense_units))\n",
    "\n",
    "# Show model\n",
    "model.summary()"
   ]
  },
  {
   "cell_type": "code",
   "execution_count": 6,
   "metadata": {},
   "outputs": [
    {
     "name": "stdout",
     "output_type": "stream",
     "text": [
      "Epoch 1/20\n",
      "91/91 [==============================] - 5s 51ms/step - loss: 0.0111\n",
      "Epoch 2/20\n",
      "91/91 [==============================] - 5s 50ms/step - loss: 0.0032\n",
      "Epoch 3/20\n",
      "91/91 [==============================] - 5s 51ms/step - loss: 0.0023\n",
      "Epoch 4/20\n",
      "91/91 [==============================] - 5s 50ms/step - loss: 0.0021\n",
      "Epoch 5/20\n",
      "91/91 [==============================] - 5s 50ms/step - loss: 0.0017\n",
      "Epoch 6/20\n",
      "91/91 [==============================] - 5s 50ms/step - loss: 0.0016\n",
      "Epoch 7/20\n",
      "91/91 [==============================] - 5s 50ms/step - loss: 0.0014\n",
      "Epoch 8/20\n",
      "91/91 [==============================] - 5s 52ms/step - loss: 0.0013\n",
      "Epoch 9/20\n",
      "91/91 [==============================] - 5s 50ms/step - loss: 0.0012\n",
      "Epoch 10/20\n",
      "91/91 [==============================] - 5s 50ms/step - loss: 0.0012\n",
      "Epoch 11/20\n",
      "91/91 [==============================] - 4s 48ms/step - loss: 0.0011\n",
      "Epoch 12/20\n",
      "91/91 [==============================] - 4s 49ms/step - loss: 0.0011\n",
      "Epoch 13/20\n",
      "91/91 [==============================] - 4s 47ms/step - loss: 9.5610e-04\n",
      "Epoch 14/20\n",
      "91/91 [==============================] - 4s 46ms/step - loss: 9.3186e-04\n",
      "Epoch 15/20\n",
      "91/91 [==============================] - 4s 46ms/step - loss: 9.1105e-04\n",
      "Epoch 16/20\n",
      "91/91 [==============================] - 4s 46ms/step - loss: 9.1739e-04\n",
      "Epoch 17/20\n",
      "91/91 [==============================] - 4s 47ms/step - loss: 8.1924e-04\n",
      "Epoch 18/20\n",
      "91/91 [==============================] - 4s 46ms/step - loss: 9.0006e-04\n",
      "Epoch 19/20\n",
      "91/91 [==============================] - 4s 47ms/step - loss: 7.9762e-04\n",
      "Epoch 20/20\n",
      "91/91 [==============================] - 4s 47ms/step - loss: 0.0010\n"
     ]
    }
   ],
   "source": [
    "# ------------------------------------------- Train LSTM -------------------------------------------\n",
    "model.compile(optimizer = 'RMSprop', loss = 'mse')\n",
    "\n",
    "# Fitting the LSTM to the Training set\n",
    "history = model.fit(X_train, y_train, epochs = n_epochs, verbose = 1)"
   ]
  },
  {
   "cell_type": "code",
   "execution_count": 7,
   "metadata": {},
   "outputs": [
    {
     "data": {
      "image/png": "[encoded data removed]",
      "text/plain": [
       "<Figure size 432x288 with 1 Axes>"
      ]
     },
     "metadata": {
      "needs_background": "light"
     },
     "output_type": "display_data"
    }
   ],
   "source": [
    "# ------------------------------------------- Visualize Training -------------------------------------------\n",
    "loss = history.history['loss']\n",
    "epochs = range(1,len(loss)+1)\n",
    "\n",
    "plt.title('Training error with epochs')\n",
    "plt.plot(epochs,loss,'-o',label='training loss')\n",
    "plt.xlabel('epochs')\n",
    "plt.ylabel('training error')\n",
    "plt.show()"
   ]
  },
  {
   "cell_type": "code",
   "execution_count": 8,
   "metadata": {},
   "outputs": [
    {
     "name": "stdout",
     "output_type": "stream",
     "text": [
      "(2901, 100, 2) (2901, 1)\n"
     ]
    }
   ],
   "source": [
    "# ------------------------------------------- Prepare Test Data -------------------------------------------\n",
    "# load data\n",
    "test_cur_inv = np.loadtxt('../data/fobss_data/data/Profile 10A/inverter/Inverter_Current.csv', delimiter=';')\n",
    "test_cur_inv = test_cur_inv[:,1]\n",
    "test_volt_master = np.loadtxt('../data/fobss_data/data/Profile 10A/battery/Battery_Voltage.csv', delimiter=';')\n",
    "test_volt_master = test_volt_master[:,1]\n",
    "test_volt_slave_0_cell_4 = np.loadtxt('../data/fobss_data/data/Profile 10A/cells/Slave_0_Cell_Voltages.csv', delimiter=';')\n",
    "test_volt_slave_0_cell_4 = test_volt_slave_0_cell_4[:,4]\n",
    "\n",
    "# prepare prediction\n",
    "X1_test, y_test, scaler_y = prepare_data(test_cur_inv, test_volt_slave_0_cell_4, False, d_sample, n_steps, gauss_sigma)\n",
    "X2_test, y_test, scaler_y = prepare_data(test_volt_slave_0_cell_4, test_volt_slave_0_cell_4, False, d_sample, n_steps, gauss_sigma)\n",
    "X_test = np.append(X1_test, X2_test, axis=2)\n",
    "\n",
    "print(X_test.shape, y_test.shape)"
   ]
  },
  {
   "cell_type": "code",
   "execution_count": 9,
   "metadata": {},
   "outputs": [
    {
     "name": "stdout",
     "output_type": "stream",
     "text": [
      "91/91 [==============================] - 1s 14ms/step\n"
     ]
    },
    {
     "data": {
      "image/png": "[encoded data removed]",
      "text/plain": [
       "<Figure size 432x288 with 1 Axes>"
      ]
     },
     "metadata": {
      "needs_background": "light"
     },
     "output_type": "display_data"
    }
   ],
   "source": [
    "# predict on test data\n",
    "yhat = model.predict(X_train, verbose = 1)\n",
    "\n",
    "# unscale data for visualization\n",
    "yhat_unscaled = scaler_y.inverse_transform(yhat)\n",
    "y_test_unscaled = scaler_y.inverse_transform(y_test) \n",
    "\n",
    "# plot test results\n",
    "plt.plot(yhat_unscaled, color='red', label = 'predicted')\n",
    "plt.plot(y_test_unscaled, color='blue', label = 'measured')\n",
    "plt.legend()\n",
    "plt.show()"
   ]
  },
  {
   "cell_type": "code",
   "execution_count": null,
   "metadata": {},
   "outputs": [],
   "source": []
  }
 ],
 "metadata": {
  "kernelspec": {
   "display_name": "battery-system",
   "language": "python",
   "name": "battery-system"
  },
  "language_info": {
   "codemirror_mode": {
    "name": "ipython",
    "version": 3
   },
   "file_extension": ".py",
   "mimetype": "text/x-python",
   "name": "python",
   "nbconvert_exporter": "python",
   "pygments_lexer": "ipython3",
   "version": "3.8.3"
  }
 },
 "nbformat": 4,
 "nbformat_minor": 4
}
