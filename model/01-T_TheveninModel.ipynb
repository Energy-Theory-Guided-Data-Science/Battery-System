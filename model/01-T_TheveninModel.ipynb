{
 "cells": [
  {
   "cell_type": "markdown",
   "metadata": {},
   "source": [
    "# Thevenin EC-Model\n",
    "This model is build following the procedure presented by G. Plett in his course on Equivalent Circuit (EC) Models (http://mocha-java.uccs.edu/ECE5710/index.html)"
   ]
  },
  {
   "cell_type": "markdown",
   "metadata": {},
   "source": [
    "### Load Profile "
   ]
  },
  {
   "cell_type": "code",
   "execution_count": null,
   "metadata": {},
   "outputs": [],
   "source": [
    "import numpy as np\n",
    "import matplotlib.pyplot as plt\n",
    "import data_preprocessing as util\n",
    "\n",
    "voltage_profile = util.load_voltage_raw_data('Profile 10A', 0, 1)\n",
    "current_profile = util.load_current_raw_data('Profile 10A')\n",
    "time = range(voltage_profile.shape[0])\n",
    "\n",
    "fig,_ = plt.subplots(figsize=(6,6))\n",
    "plt.subplot(2,1,1)  \n",
    "plt.plot(voltage_profile, color='red', label='predicted')\n",
    "plt.title('Voltage')\n",
    "plt.legend()\n",
    "plt.subplot(2,1,2)\n",
    "plt.plot(current_profile, color='blue', label='predicted')\n",
    "plt.title('Current')\n",
    "plt.legend()\n",
    "plt.show()"
   ]
  },
  {
   "attachments": {
    "image.png": {
     "image/png": "[encoded data removed]"
    }
   },
   "cell_type": "markdown",
   "metadata": {},
   "source": [
    "### Step 1: Instantaneuos Voltage Change to deduce $R_0$\n",
    "![image.png](attachment:image.png)"
   ]
  },
  {
   "cell_type": "code",
   "execution_count": null,
   "metadata": {},
   "outputs": [],
   "source": [
    "# delta_v_0\n",
    "volt_grad = np.gradient(voltage_profile) # to find instantaneuous change point\n",
    "max_volt_change = np.argmax(volt_grad)\n",
    "delta_v_0 = abs(voltage_profile[max_volt_change+3] - voltage_profile[max_volt_change-3])\n",
    "print('delta_v_0:', round(delta_v_0, 5))\n",
    "\n",
    "# delta_i\n",
    "cur_grad = np.gradient(current_profile)\n",
    "max_cur_change = np.argmax(cur_grad)\n",
    "delta_i = abs(current_profile[max_cur_change+3] - current_profile[max_cur_change-7])\n",
    "print('delta_i:', round(delta_i, 5))\n",
    "\n",
    "# R_0\n",
    "r_0 = delta_v_0 / delta_i\n",
    "print('r_0:', round(r_0, 5))"
   ]
  },
  {
   "attachments": {
    "image.png": {
     "image/png": "[encoded data removed]"
    }
   },
   "cell_type": "markdown",
   "metadata": {},
   "source": [
    "### Step 2: Steady State Voltage Change to deduce $R_1$\n",
    "![image.png](attachment:image.png)"
   ]
  },
  {
   "cell_type": "code",
   "execution_count": null,
   "metadata": {},
   "outputs": [],
   "source": [
    "# delta_v_infty\n",
    "delta_v_infty = voltage_profile[-1]\n",
    "print('delta_v_infty:', round(delta_v_infty, 5))\n",
    "\n",
    "# R_1\n",
    "r_1 = (delta_v_infty - r_0 * delta_i) / delta_i\n",
    "print('r_1:', round(r_1, 5))"
   ]
  },
  {
   "attachments": {
    "image.png": {
     "image/png": "[encoded data removed]"
    }
   },
   "cell_type": "markdown",
   "metadata": {},
   "source": [
    "### Step 3: Time to decay to Steady State Voltage Change to deduce $C_1$\n",
    "![image.png](attachment:image.png)"
   ]
  },
  {
   "cell_type": "code",
   "execution_count": null,
   "metadata": {},
   "outputs": [],
   "source": [
    "# delta_t\n",
    "curr_drop_profile = current_profile[2000:]\n",
    "\n",
    "for i in range(len(curr_drop_profile)):\n",
    "    if curr_drop_profile[i] < 9:\n",
    "        t = i + 2000\n",
    "        break\n",
    "        \n",
    "delta_t = len(current_profile) - t\n",
    "delta_t = delta_t * 0.1\n",
    "print('delta_t:', round(delta_t, 5))\n",
    "\n",
    "# C_1\n",
    "c_1 = delta_t / (4 * r_1)\n",
    "print('c_1:', round(c_1, 5))"
   ]
  },
  {
   "cell_type": "code",
   "execution_count": null,
   "metadata": {},
   "outputs": [],
   "source": []
  }
 ],
 "metadata": {
  "kernelspec": {
   "display_name": "battery-system",
   "language": "python",
   "name": "battery-system"
  },
  "language_info": {
   "codemirror_mode": {
    "name": "ipython",
    "version": 3
   },
   "file_extension": ".py",
   "mimetype": "text/x-python",
   "name": "python",
   "nbconvert_exporter": "python",
   "pygments_lexer": "ipython3",
   "version": "3.8.3"
  }
 },
 "nbformat": 4,
 "nbformat_minor": 4
}
