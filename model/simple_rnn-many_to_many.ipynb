{
 "cells": [
  {
   "cell_type": "code",
   "execution_count": null,
   "metadata": {},
   "outputs": [],
   "source": [
    "import numpy as np\n",
    "import tensorflow as tf\n",
    "import matplotlib.pyplot as plt\n",
    "from tensorflow import keras\n",
    "from tensorflow.keras import layers\n",
    "from sklearn.preprocessing import MinMaxScaler\n",
    "from scipy import ndimage \n",
    "tf.compat.v1.set_random_seed(1)"
   ]
  },
  {
   "cell_type": "code",
   "execution_count": null,
   "metadata": {},
   "outputs": [],
   "source": [
    "\"\"\"Function that prepares the input X and output y for training a LSTM network\n",
    "\n",
    "\n",
    "Args:\n",
    "    sequence_1: the first sequence which gets converted into multiple subarrays of length: n_steps\n",
    "    sequence_2: the second sequence, each n_steps'th element will be part of the output array\n",
    "    n_steps: the amount of time steps used as an input into the LSTM for prediction\n",
    "\n",
    "Returns:\n",
    "    A tuple of 2 numpy arrays in the required format\n",
    "    \n",
    "    X.shape = (X.shape[0] - n_steps, n_steps)\n",
    "    y.shape = (X.shape[0] - n_steps)\n",
    "\n",
    "\"\"\"\n",
    "def prepare_sequences(sequence_1, sequence_2, n_steps):\n",
    "    X, y = list(), list()\n",
    "    for i in range(len(sequence_1)):\n",
    "        end_ix = i + n_steps\n",
    "\n",
    "        if end_ix > len(sequence_1)-1:\n",
    "            break\n",
    "\n",
    "        seq_x = sequence_1[i:end_ix]\n",
    "        X.append(seq_x)\n",
    "        y.append(sequence_2[end_ix])\n",
    "        \n",
    "    return np.array(X), np.array(y)\n",
    "\n",
    "\n",
    "def subsample(sequence, d_sample):\n",
    "    return sequence[::d_sample]\n",
    "\n",
    "def smooth(sequence, sigma):\n",
    "    return ndimage.filters.gaussian_filter(sequence, sigma)"
   ]
  },
  {
   "cell_type": "code",
   "execution_count": null,
   "metadata": {},
   "outputs": [],
   "source": [
    "# set hyperparameters\n",
    "n_steps = 500\n",
    "n_features = 1\n",
    "n_lstm_units = 50\n",
    "n_dense_units = 1\n",
    "n_epochs = 4\n",
    "\n",
    "d_sample = 10\n",
    "gauss_sigma = 10"
   ]
  },
  {
   "cell_type": "code",
   "execution_count": null,
   "metadata": {},
   "outputs": [],
   "source": [
    "# ------------------------------------------- Prepare Training Data -------------------------------------------\n",
    "train_cur_master = np.loadtxt('../data/fobss_data/data/Ri Jumps 25A/battery/Battery_Current.csv', delimiter=';')\n",
    "train_cur_master = train_cur_master[10000:150000,1]\n",
    "\n",
    "train_volt_slave_0_cell_4 = np.loadtxt('../data/fobss_data/data/Ri Jumps 25A/cells/Slave_0_Cell_Voltages.csv', delimiter=';')\n",
    "train_volt_slave_0_cell_4 = train_volt_slave_0_cell_4[10000:150000,4]\n",
    "\n",
    "# subsample and smooth data \n",
    "train_cur_master = subsample(train_cur_master, d_sample)\n",
    "train_cur_master = smooth(train_cur_master, gauss_sigma)\n",
    "\n",
    "train_volt_slave_0_cell_4 = subsample(train_volt_slave_0_cell_4, d_sample)\n",
    "train_volt_slave_0_cell_4 = smooth(train_volt_slave_0_cell_4, gauss_sigma)\n",
    "\n",
    "# convert into X and y sequences\n",
    "X_train, y_train = prepare_sequences(train_cur_master, train_volt_slave_0_cell_4, n_steps)\n",
    "y_train = np.reshape(y_train, (-1, 1))\n",
    "\n",
    "# fit and scale input\n",
    "scaler_X = MinMaxScaler(feature_range = (0, 1))\n",
    "scaler_X.fit(X_train)\n",
    "X_train_scaled = scaler_X.transform(X_train)\n",
    "\n",
    "# fit and scale output\n",
    "scaler_y = MinMaxScaler(feature_range = (0, 1))\n",
    "scaler_y.fit(y_train)\n",
    "y_train_scaled = scaler_y.transform(y_train)\n",
    "\n",
    "# reshape into correct input format\n",
    "X_train_scaled = X_train_scaled.reshape(X_train_scaled.shape[0], X_train_scaled.shape[1], n_features)\n",
    "print(X_train_scaled.shape, y_train_scaled.shape)"
   ]
  },
  {
   "cell_type": "code",
   "execution_count": null,
   "metadata": {},
   "outputs": [],
   "source": [
    "# ------------------------------------------- Initialize LSTM -------------------------------------------\n",
    "model = keras.Sequential()\n",
    "\n",
    "# Adding the first LSTM layer and some Dropout regularisation\n",
    "model.add(layers.SimpleRNN(units = n_lstm_units, activation='relu', input_shape = (n_steps, n_features), return_sequences=True))\n",
    "# model.add(layers.Dropout(0.2))\n",
    "\n",
    "# Adding the output layer\n",
    "model.add(layers.Dense(units = n_dense_units))\n",
    "\n",
    "# Show model\n",
    "model.summary()"
   ]
  },
  {
   "cell_type": "code",
   "execution_count": null,
   "metadata": {},
   "outputs": [],
   "source": [
    "# ------------------------------------------- Train LSTM -------------------------------------------\n",
    "model.compile(optimizer = 'adam', loss = 'mean_squared_error')\n",
    "\n",
    "# Fitting the RNN to the Training set\n",
    "history = model.fit(X_train_scaled, y_train_scaled, epochs = n_epochs, verbose = 1)\n",
    "\n",
    "# Save trained model\n",
    "model.save(\"simpleRNN\")"
   ]
  },
  {
   "cell_type": "code",
   "execution_count": null,
   "metadata": {},
   "outputs": [],
   "source": [
    "# ------------------------------------------- Visualize Training -------------------------------------------\n",
    "loss = history.history['loss']\n",
    "\n",
    "epochs = range(1,len(loss)+1)\n",
    "plt.title('Training error with epochs')\n",
    "plt.plot(epochs,loss,'bo',label='training loss')\n",
    "plt.xlabel('epochs')\n",
    "plt.ylabel('training error')\n",
    "plt.show()"
   ]
  },
  {
   "cell_type": "code",
   "execution_count": null,
   "metadata": {},
   "outputs": [],
   "source": [
    "# ------------------------------------------- Prepare Test Data -------------------------------------------\n",
    "test_cur_master = np.loadtxt('../data/fobss_data/data/Ri Jumps 25A/battery/Battery_Current.csv', delimiter=';')\n",
    "test_cur_master = test_cur_master[80000:100000,1]\n",
    "test_volt_slave_0_cell_4 = np.loadtxt('../data/fobss_data/data/Ri Jumps 25A/cells/Slave_0_Cell_Voltages.csv', delimiter=';')\n",
    "test_volt_slave_0_cell_4 = test_volt_slave_0_cell_4[80000:100000, 4]\n",
    "\n",
    "# subsample and smooth data \n",
    "test_cur_master = subsample(test_cur_master, d_sample)\n",
    "test_cur_master = smooth(test_cur_master, gauss_sigma)\n",
    "\n",
    "test_volt_slave_0_cell_4 = subsample(test_volt_slave_0_cell_4, d_sample)\n",
    "test_volt_slave_0_cell_4 = smooth(test_volt_slave_0_cell_4, gauss_sigma)\n",
    "\n",
    "# convert into X and y sequences\n",
    "X_test, y_test = prepare_sequences(test_cur_master, test_volt_slave_0_cell_4, n_steps)\n",
    "y_test = np.reshape(y_test, (-1, 1))\n",
    "\n",
    "# scale input and output\n",
    "X_test_scaled = scaler_X.transform(X_test)\n",
    "y_test_scaled = scaler_y.transform(y_test)\n",
    "\n",
    "# reshape into correct input format\n",
    "X_test_scaled = X_test_scaled.reshape(X_test_scaled.shape[0], X_test_scaled.shape[1], n_features)\n",
    "\n",
    "print(X_test_scaled.shape, y_test_scaled.shape)"
   ]
  },
  {
   "cell_type": "code",
   "execution_count": null,
   "metadata": {},
   "outputs": [],
   "source": [
    "# predict on test data\n",
    "yhat_scaled = model.predict(X_test_scaled, verbose = 1)\n",
    "yhat = scaler_y.inverse_transform(yhat_scaled)\n",
    "\n",
    "# plot test results\n",
    "plt.plot(yhat, color='red', label = 'predicted')\n",
    "plt.plot(y_test, color='blue', label = 'measured')\n",
    "plt.legend()\n",
    "plt.show()"
   ]
  },
  {
   "cell_type": "code",
   "execution_count": null,
   "metadata": {},
   "outputs": [],
   "source": []
  },
  {
   "cell_type": "code",
   "execution_count": null,
   "metadata": {},
   "outputs": [],
   "source": []
  }
 ],
 "metadata": {
  "kernelspec": {
   "display_name": "battery-system",
   "language": "python",
   "name": "battery-system"
  },
  "language_info": {
   "codemirror_mode": {
    "name": "ipython",
    "version": 3
   },
   "file_extension": ".py",
   "mimetype": "text/x-python",
   "name": "python",
   "nbconvert_exporter": "python",
   "pygments_lexer": "ipython3",
   "version": "3.8.3"
  }
 },
 "nbformat": 4,
 "nbformat_minor": 4
}
