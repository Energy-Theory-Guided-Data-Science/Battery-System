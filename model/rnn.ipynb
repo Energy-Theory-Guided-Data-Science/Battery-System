{
 "cells": [
  {
   "cell_type": "code",
   "execution_count": 126,
   "metadata": {},
   "outputs": [],
   "source": [
    "import numpy as np\n",
    "import tensorflow as tf\n",
    "import matplotlib.pyplot as plt\n",
    "from tensorflow import keras\n",
    "from tensorflow.keras import layers"
   ]
  },
  {
   "cell_type": "code",
   "execution_count": null,
   "metadata": {},
   "outputs": [],
   "source": [
    "# prepare \n",
    "def split_sequence(sequence1, sequence2, n_steps):\n",
    "    X, y = list(), list()\n",
    "    for i in range(len(sequence1)):\n",
    "        # find the end of this pattern\n",
    "        end_ix = i + n_steps\n",
    "        # check if we are beyond the sequence\n",
    "        if end_ix > len(sequence1)-1:\n",
    "            break\n",
    "        # gather input and output parts of the pattern\n",
    "        seq_x = sequence1[i:end_ix]\n",
    "        X.append(seq_x)\n",
    "        y.append(sequence2[end_ix])\n",
    "    return np.array(X), np.array(y)"
   ]
  },
  {
   "cell_type": "code",
   "execution_count": null,
   "metadata": {},
   "outputs": [],
   "source": [
    "# set hyperparameters"
   ]
  },
  {
   "cell_type": "code",
   "execution_count": null,
   "metadata": {},
   "outputs": [],
   "source": [
    "cur_master = np.loadtxt('../data/fobss_data/data/Ri Jumps 25A/battery/Battery_Current.csv', delimiter=';')\n",
    "cur_master = cur_master[0:150000,1]\n",
    "\n",
    "volt_slave_0_cell_4 = np.loadtxt('../data/fobss_data/data/Ri Jumps 25A/cells/Slave_0_Cell_Voltages.csv', delimiter=';')\n",
    "volt_slave_0_cell_4 = volt_slave_0_cell_4[0:150000, 4]\n",
    "\n",
    "n_steps = 10\n",
    "n_features = 1\n",
    "\n",
    "X_train, y_train = split_sequence(cur_master, volt_slave_0_cell_4, n_steps)\n",
    "\n",
    "X_train = X_train.reshape(X_train.shape[0], X_train.shape[1], n_features)\n",
    "X_train.shape"
   ]
  },
  {
   "cell_type": "code",
   "execution_count": null,
   "metadata": {},
   "outputs": [],
   "source": [
    "model = keras.Sequential()\n",
    "\n",
    "#Adding the first LSTM layer and some Dropout regularisation\n",
    "model.add(layers.LSTM(units = 50, activation='relu', return_sequences = True, input_shape = (n_steps, n_features)))\n",
    "\n",
    "# Adding the output layer\n",
    "model.add(layers.Dense(units = 1))\n",
    "\n",
    "# Show model\n",
    "model.summary()"
   ]
  },
  {
   "cell_type": "code",
   "execution_count": null,
   "metadata": {},
   "outputs": [],
   "source": [
    "# Compiling the RNN\n",
    "model.compile(optimizer = 'adam', loss = 'mean_squared_error')\n",
    "\n",
    "# Fitting the RNN to the Training set\n",
    "model.fit(X_train, y_train, epochs = 10, verbose = 1)"
   ]
  },
  {
   "cell_type": "code",
   "execution_count": null,
   "metadata": {},
   "outputs": [],
   "source": [
    "test_cur_master = np.loadtxt('../data/fobss_data/data/osc_19_11_18/battery/Battery_Current.csv', delimiter=';')\n",
    "test_cur_master = test_cur_master[1:,1]\n",
    "\n",
    "test_volt_slave_0_cell_4 = np.loadtxt('../data/fobss_data/data/osc_19_11_18/cells/Slave_0_Cell_Voltages.csv', delimiter=';')\n",
    "test_volt_slave_0_cell_4 = test_volt_slave_0_cell_4[:, 4]\n",
    "\n",
    "X_test, y_test = split_sequence(test_cur_master, test_volt_slave_0_cell_4, n_steps)\n",
    "\n",
    "X_test = X_test.reshape(X_test.shape[0], X_test.shape[1], n_features)\n",
    "X_test.shape"
   ]
  },
  {
   "cell_type": "code",
   "execution_count": null,
   "metadata": {},
   "outputs": [],
   "source": [
    "yhat = model.predict(X_test, verbose = 1)\n",
    "\n",
    "plt.plot(yhat[:,0,0], color='red', label = 'predicted')\n",
    "plt.plot(y_test, color='blue', label = 'measured')\n",
    "plt.legend()\n",
    "plt.show()"
   ]
  },
  {
   "cell_type": "code",
   "execution_count": null,
   "metadata": {},
   "outputs": [],
   "source": []
  },
  {
   "cell_type": "code",
   "execution_count": null,
   "metadata": {},
   "outputs": [],
   "source": []
  }
 ],
 "metadata": {
  "kernelspec": {
   "display_name": "battery-system",
   "language": "python",
   "name": "battery-system"
  },
  "language_info": {
   "codemirror_mode": {
    "name": "ipython",
    "version": 3
   },
   "file_extension": ".py",
   "mimetype": "text/x-python",
   "name": "python",
   "nbconvert_exporter": "python",
   "pygments_lexer": "ipython3",
   "version": "3.8.3"
  }
 },
 "nbformat": 4,
 "nbformat_minor": 4
}
