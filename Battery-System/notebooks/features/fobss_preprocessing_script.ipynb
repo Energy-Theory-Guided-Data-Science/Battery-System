{
 "cells": [
  {
   "cell_type": "markdown",
   "metadata": {},
   "source": [
    "### FOBSS Preprocessing Script\n",
    "---\n",
    "Playground for data visualization"
   ]
  },
  {
   "cell_type": "code",
   "execution_count": null,
   "metadata": {},
   "outputs": [],
   "source": [
    "import numpy as np\n",
    "import matplotlib.pyplot as plt\n",
    "from scipy import ndimage \n",
    "\n",
    "def subsample(sequence, d_sample):\n",
    "    return sequence[::d_sample]\n",
    "\n",
    "def smooth(sequence, sigma):\n",
    "    return ndimage.filters.gaussian_filter(sequence, sigma)\n",
    "\n",
    "subsample_fac = 1\n",
    "smooth_fac = 15"
   ]
  },
  {
   "cell_type": "markdown",
   "metadata": {},
   "source": [
    "## Voltage"
   ]
  },
  {
   "cell_type": "code",
   "execution_count": null,
   "metadata": {},
   "outputs": [],
   "source": [
    "fig,_ = plt.subplots(figsize=(25,5))\n",
    "\n",
    "axe = plt.subplot(1,3,1)\n",
    "volt = np.loadtxt('../../data/raw/fobss_data/data/Profile 10A/cells/Slave_0_Cell_Voltages.csv', delimiter=';')\n",
    "volt = volt[:,4]\n",
    "volt = subsample(volt, subsample_fac)\n",
    "volt = smooth(volt, smooth_fac)\n",
    "plt.ylabel(\"voltage (V)\", fontsize=20)\n",
    "plt.xlabel(\"time (s)\", fontsize=20)\n",
    "plt.title(\"Simple\", fontsize=20)\n",
    "size = volt.shape[0] * subsample_fac\n",
    "plt.plot(np.arange(size)[::subsample_fac]*0.25, volt, color='b')\n",
    "axe = plt.subplot(1,3,2)\n",
    "volt = np.loadtxt('../../data/raw/fobss_data/data/profile_-25A_10A_04_12_18/cells/Slave_0_Cell_Voltages.csv', delimiter=';')\n",
    "volt = volt[:,4]\n",
    "volt = subsample(volt, subsample_fac)\n",
    "volt = smooth(volt, smooth_fac)\n",
    "plt.xlabel(\"time (s)\", fontsize=20)\n",
    "plt.title(\"Long\", fontsize=20)\n",
    "size = volt.shape[0] * subsample_fac\n",
    "plt.plot(np.arange(size)[::subsample_fac]*0.25, volt, color='b')\n",
    "axe = plt.subplot(1,3,3)\n",
    "volt = np.loadtxt('../../data/raw/fobss_data/data/stairs_19_11_18/cells/Slave_0_Cell_Voltages.csv', delimiter=';')\n",
    "volt = volt[:,4]\n",
    "volt = subsample(volt, subsample_fac)\n",
    "volt = smooth(volt, smooth_fac)\n",
    "\n",
    "size = volt.shape[0] * subsample_fac\n",
    "plt.plot(np.arange(size)[::subsample_fac]*0.25, volt, color='b')\n",
    "plt.xlabel(\"time (s)\", fontsize=20)\n",
    "plt.title(\"Complex\", fontsize=20)"
   ]
  },
  {
   "cell_type": "markdown",
   "metadata": {},
   "source": [
    "## Current"
   ]
  },
  {
   "cell_type": "code",
   "execution_count": null,
   "metadata": {},
   "outputs": [],
   "source": [
    "axe = plt.subplot(1,1,1)\n",
    "cur = np.loadtxt('../../data/raw/fobss_data/data/Profile -10A/battery/Battery_Current.csv', delimiter=';')\n",
    "cur = -cur[:,1]\n",
    "cur = subsample(cur, subsample_fac)\n",
    "cur = smooth(cur, smooth_fac)\n",
    "\n",
    "size = cur.shape[0] * subsample_fac\n",
    "\n",
    "plt.plot(np.arange(size)[::subsample_fac]*0.25, cur, color='b')\n",
    "plt.ylabel(\"voltage (V)\", fontsize=20)\n",
    "plt.xlabel(\"time (s)\", fontsize=20)"
   ]
  },
  {
   "cell_type": "code",
   "execution_count": null,
   "metadata": {},
   "outputs": [],
   "source": []
  }
 ],
 "metadata": {
  "kernelspec": {
   "display_name": "battery-system",
   "language": "python",
   "name": "battery-system"
  },
  "language_info": {
   "codemirror_mode": {
    "name": "ipython",
    "version": 3
   },
   "file_extension": ".py",
   "mimetype": "text/x-python",
   "name": "python",
   "nbconvert_exporter": "python",
   "pygments_lexer": "ipython3",
   "version": "3.8.3"
  }
 },
 "nbformat": 4,
 "nbformat_minor": 4
}
