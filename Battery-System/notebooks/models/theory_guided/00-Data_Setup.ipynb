{
 "cells": [
  {
   "cell_type": "markdown",
   "metadata": {},
   "source": [
    "# Create Training Setup for Models"
   ]
  },
  {
   "cell_type": "code",
   "execution_count": 1,
   "metadata": {},
   "outputs": [],
   "source": [
    "import context\n",
    "import numpy as np"
   ]
  },
  {
   "cell_type": "markdown",
   "metadata": {},
   "source": [
    "### Set General Hyperparameters"
   ]
  },
  {
   "cell_type": "code",
   "execution_count": 2,
   "metadata": {},
   "outputs": [],
   "source": [
    "HYPER_PARAMS = {\n",
    "    'd_sample': 2,                      # subsampling ratio\n",
    "    'gauss_sigma': 10,                  # smoothing factor\n",
    "    'stack': 0,                         # stack used to extract the data\n",
    "    'cell': 4,                          # specific cell to extract the data\n",
    "    'n_steps': 100,                     # defines M in the M-to-1 LSTM structure\n",
    "    \n",
    "    'n_lstm_units_1': 50,               # number of LSTM units in the first layer\n",
    "    'alpha_1': 0.1,                     # alpha value for LeakyReLU acitvation\n",
    "    'n_lstm_units_2': 20,               # number of LSTM units in the second layer\n",
    "    'alpha_2': 0.1,                     # alpha value for LeakyReLU activation\n",
    "    'n_dense_units': 10,                # number of dense units in the output layer  # TODO: add dense layer?\n",
    "    \n",
    "    'activation_output_layer': 'tanh',  # output activation function\n",
    "    'n_epochs': 7,                     # number of training epochs\n",
    "    'optimizer': 'Adam',                # optimizer\n",
    "    'metric': 'mae',                    # performance metric during training\n",
    "    \n",
    "    'feature_range_cur_low': -1,        # lower bound of current input feature after scaling\n",
    "    'feature_range_cur_high': 1,        # upper -||-\n",
    "    'feature_range_charge_low': -1,     # lower bound of charge input feature after scaling\n",
    "    'feature_range_charge_high': 1,     # upper -||-\n",
    "    'feature_range_volt_low': -1,       # lower bound of voltage label after scaling\n",
    "    'feature_range_volt_high': 1,       # upper -||-\n",
    "    \n",
    "    'boundary_cur_low': -10,            # lower bound of current value range in A\n",
    "    'boundary_cur_high': 10,            # upper -||-\n",
    "    'boundary_charge_low': -33.2,       # lower bound of accumulated current value range \n",
    "    'boundary_charge_high': 33.2,       # upper -||-\n",
    "    'boundary_voltage_low': 3.304,      # lower bound of voltage value range in V\n",
    "    'boundary_voltage_high': 3.982,     # upper -||-\n",
    "}\n",
    "\n",
    "# save generic hyperparameters which are required by all models\n",
    "np.save('../../../models/TGDS/training_setup/hyperparameters', HYPER_PARAMS)"
   ]
  },
  {
   "cell_type": "markdown",
   "metadata": {},
   "source": [
    "### Define Training Datasets"
   ]
  },
  {
   "cell_type": "code",
   "execution_count": 3,
   "metadata": {
    "scrolled": true
   },
   "outputs": [],
   "source": [
    "# different sets of training data identifyed by their unique IDs\n",
    "TRAINING_SETS = {\n",
    "    '10A_one': ['Profile 10A'],\n",
    "    \n",
    "    '10A_all': ['Profile 10A',\n",
    "                'Profile 10A Run 040618',\n",
    "                'Profile 10A Run 080618', \n",
    "                'Profile 10A Run 070618_3',\n",
    "                'Profile 10A Run 070618_2', \n",
    "                'Profile 10A Run 070618'],\n",
    "    \n",
    "    '-10A_all': ['Profile -10A',\n",
    "                 'Profile -10A Run 070618',\n",
    "                 'Profile -10A Run 070618_2',\n",
    "                 'Profile -10A Run 070618_3',\n",
    "                 'Profile -10A Run 080618_2',\n",
    "                 'Profile -10A Run 080618_3'\n",
    "                ],\n",
    "    \n",
    "    '25A_all': ['Profile 25A Run 2',\n",
    "                'Profile 25A Run 040618',\n",
    "                'Profile 25A Run 070618',\n",
    "                'Profile 25A Run 070618_3',\n",
    "                'Profile 25A Run 070618_4'\n",
    "               ],\n",
    "    \n",
    "    '-25A_all': ['Profile -25A',\n",
    "                 'Profile -25A Run 070618',\n",
    "                 'Profile -25A Run 070618_2',\n",
    "                 'Profile -25A Run 070618_3',\n",
    "                 'Profile -25A Run 080618_2'\n",
    "                ],\n",
    "}\n",
    "\n",
    "# save training data sets\n",
    "np.save('../../../models/TGDS/training_setup/training_sets', TRAINING_SETS)"
   ]
  },
  {
   "cell_type": "markdown",
   "metadata": {},
   "source": [
    "### Define Test Datasets"
   ]
  },
  {
   "cell_type": "code",
   "execution_count": 4,
   "metadata": {},
   "outputs": [],
   "source": [
    "# different sets of test data identifyed by the unique IDs corresponding to the entries in the TRAINING_SETS\n",
    "TEST_SETS = {\n",
    "    'Use_Case_1': ['profile_-10A_25A_19_11_18'],\n",
    "    'Use_Case_2': ['profile_-25A_10A_04_12_18'],\n",
    "    'Use_Case_3': ['osc_19_11_18'],\n",
    "    \n",
    "    'Untitled_1':['Profile 10A Run 080618'],\n",
    "    \n",
    "    'Reproduction': ['Profile 10A'],\n",
    "    'Abstraction': ['Profile 10A 3x'],\n",
    "    'Generalization': ['Profile -10A'],\n",
    "}\n",
    "\n",
    "# save test data sets\n",
    "np.save('../../../models/TGDS/training_setup/test_sets', TEST_SETS)"
   ]
  },
  {
   "cell_type": "code",
   "execution_count": null,
   "metadata": {},
   "outputs": [],
   "source": []
  }
 ],
 "metadata": {
  "kernelspec": {
   "display_name": "battery-system",
   "language": "python",
   "name": "battery-system"
  },
  "language_info": {
   "codemirror_mode": {
    "name": "ipython",
    "version": 3
   },
   "file_extension": ".py",
   "mimetype": "text/x-python",
   "name": "python",
   "nbconvert_exporter": "python",
   "pygments_lexer": "ipython3",
   "version": "3.8.3"
  }
 },
 "nbformat": 4,
 "nbformat_minor": 4
}
