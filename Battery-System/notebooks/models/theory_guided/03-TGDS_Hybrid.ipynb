{
 "cells": [
  {
   "cell_type": "markdown",
   "metadata": {},
   "source": [
    "# TGDS Hybrid Model"
   ]
  },
  {
   "cell_type": "code",
   "execution_count": null,
   "metadata": {},
   "outputs": [],
   "source": [
    "import context\n",
    "import numpy as np\n",
    "import tensorflow as tf\n",
    "import matplotlib.pyplot as plt\n",
    "\n",
    "import src.data.data_preprocessing as util\n",
    "import src.models.lstm_model as lstm\n",
    "\n",
    "tf.compat.v1.set_random_seed(1)"
   ]
  },
  {
   "cell_type": "markdown",
   "metadata": {},
   "source": [
    "### Set Hyperparameters"
   ]
  },
  {
   "cell_type": "code",
   "execution_count": null,
   "metadata": {},
   "outputs": [],
   "source": [
    "HYPER_PARAMS = {\n",
    "    'n_epochs': 15,                   # number of training epochs\n",
    "    'd_sample': 4,                    # subsampling ratio\n",
    "    'gauss_sigma': 10,                # smoothing factor\n",
    "    'd_t': 0.25,                      # charge integration factor\n",
    "    'feature_range_cur_low': -1,      # lower bound of current input feature after scaling\n",
    "    'feature_range_cur_high': 1,      # upper -||-\n",
    "    'feature_range_charge_low': -1,   # lower bound of charge input feature after scaling\n",
    "    'feature_range_charge_high': 1,   # upper -||-\n",
    "    'feature_range_volt_low': -1,     # lower bound of voltage label after scaling\n",
    "    'feature_range_volt_high': 1,     # upper -||-\n",
    "    'boundary_cur_low': -10,          # lower bound of current value range in A\n",
    "    'boundary_cur_high': 10,          # upper -||-\n",
    "    'boundary_charge_low': -33.2,     # lower bound of accumulated current value range \n",
    "    'boundary_charge_high': 33.2,     # upper -||-\n",
    "    'boundary_voltage_low': 3.304,    # lower bound of voltage value range in V\n",
    "    'boundary_voltage_high': 3.982,   # upper -||-\n",
    "    'n_steps': 100,                   # defines M in the M-to-1 LSTM structure\n",
    "    'n_features': 3,                  # number of input features\n",
    "    'n_lstm_units_1': 50,             # number of LSTM units in the first layer\n",
    "    'alpha_1': 0.1,                   # alpha value for LeakyReLU \n",
    "    'n_lstm_units_2': 20,             \n",
    "    'alpha_2': 0.1,                   \n",
    "    'n_dense_units': 10,              # number of dense units in the output layer\n",
    "    'activation_output_layer': 'tanh',# output activation function\n",
    "    'dropout': 0.2,                   # dropout factor\n",
    "    'learning_rate': 0.001,           # learning rate\n",
    "    'optimizer': 'Adam',              # optimizer\n",
    "    'metric': 'mae',                  # performance metric during training \n",
    "    'loss_funcs': ['mse'],            # loss functions\n",
    "    'lambda_mse': 1,                  # loss function weighting factor\n",
    "    'lambda_apx': 0.1,\n",
    "    'lambda_mon': 0.1,\n",
    "    'theory_model': 5595,\n",
    "}"
   ]
  },
  {
   "cell_type": "markdown",
   "metadata": {},
   "source": [
    "### Prepare Training/Validation/Test Data"
   ]
  },
  {
   "cell_type": "code",
   "execution_count": null,
   "metadata": {
    "scrolled": true
   },
   "outputs": [],
   "source": [
    "# train_data = ['Profile 10A', 'Profile 10A', 'Profile 10A', 'Profile 10A', 'Profile 10A', 'Profile 10A', 'Profile 10A', 'Profile 10A']\n",
    "train_data = [\n",
    "    'Profile 10A', 'Profile 10A', 'Profile 10A', 'Profile 10A', 'Profile 10A', 'Profile 10A',\n",
    "    'Profile 10A Run 040618', 'Profile 10A Run 040618', 'Profile 10A Run 040618', 'Profile 10A Run 040618', 'Profile 10A Run 040618','Profile 10A Run 040618', \n",
    "    'Profile 10A Run 080618', 'Profile 10A Run 080618', 'Profile 10A Run 080618', 'Profile 10A Run 080618', 'Profile 10A Run 080618', 'Profile 10A Run 080618',\n",
    "    'Profile 10A Run 070618_3', 'Profile 10A Run 070618_3', 'Profile 10A Run 070618_3', 'Profile 10A Run 070618_3', 'Profile 10A Run 070618_3', 'Profile 10A Run 070618_3',\n",
    "    'Profile 10A Run 070618_2', 'Profile 10A Run 070618_2', 'Profile 10A Run 070618_2', 'Profile 10A Run 070618_2', 'Profile 10A Run 070618_2','Profile 10A Run 070618_2',\n",
    "    'Profile 10A Run 070618', 'Profile 10A Run 070618', 'Profile 10A Run 070618', 'Profile 10A Run 070618', 'Profile 10A Run 070618','Profile 10A Run 070618','Profile 10A Run 070618'\n",
    "]\n",
    "\n",
    "# select arbitrary profile for validation\n",
    "validation_profile = np.random.choice(train_data, 1) \n",
    "\n",
    "# select arbitrary profile for testing\n",
    "test_data = ['Profile 25A Run 2', 'Profile 25A Run 040618', 'Profile 25A Run 070618', 'Profile 25A Run 070618_3']\n",
    "test_profile = np.random.choice(test_data, 1) \n",
    "\n",
    "# prepare input data\n",
    "X_train, y_train, scalers_train = util.prepare_hybrid_input(HYPER_PARAMS, train_data, 0, 4)\n",
    "X_validation, y_validation, _ = util.prepare_hybrid_input(HYPER_PARAMS, validation_profile, 0, 4)\n",
    "X_test, y_test, _ = util.prepare_hybrid_input(HYPER_PARAMS, test_profile, 0, 4)"
   ]
  },
  {
   "cell_type": "markdown",
   "metadata": {},
   "source": [
    "### Initialize and Train Model"
   ]
  },
  {
   "cell_type": "code",
   "execution_count": null,
   "metadata": {},
   "outputs": [],
   "source": [
    "lstm = lstm.Model()\n",
    "lstm.initialize(HYPER_PARAMS)"
   ]
  },
  {
   "cell_type": "code",
   "execution_count": null,
   "metadata": {
    "scrolled": true
   },
   "outputs": [],
   "source": [
    "_, fig = lstm.train(X_train, y_train, scalers_train)\n",
    "\n",
    "# save model, hyperparameters and plots\n",
    "MODEL_ID = str(np.random.randint(10000))\n",
    "\n",
    "lstm.model.save('../../../models/TGDS/' + str(MODEL_ID))\n",
    "np.save('../../../models/TGDS/' + str(MODEL_ID) + '/hyperparameters', HYPER_PARAMS)\n",
    "fig.savefig('../../../reports/figures/theory_guided_hybrid-' + str(MODEL_ID) + '-learning_curve.png')"
   ]
  },
  {
   "cell_type": "markdown",
   "metadata": {},
   "source": [
    "### Test Model"
   ]
  },
  {
   "cell_type": "code",
   "execution_count": null,
   "metadata": {
    "scrolled": false
   },
   "outputs": [],
   "source": [
    "yhat_train_unscaled, _, _, _, _, fig = lstm.test(X_train, y_train, X_validation, y_validation, X_test, y_test, scalers_train)\n",
    "print('Validation:', validation_profile)\n",
    "print('Test:', test_profile)\n",
    "\n",
    "# save plots and predicted sequences\n",
    "np.save('../../../models/TGDS/' + str(MODEL_ID) + '/predictions', yhat_train_unscaled)\n",
    "fig.savefig('../../../reports/figures/theory_guided_hybrid-' + str(MODEL_ID) + '-validation&test_profiles.png')"
   ]
  },
  {
   "cell_type": "markdown",
   "metadata": {},
   "source": [
    "### Prepare Data for Use Cases"
   ]
  },
  {
   "cell_type": "code",
   "execution_count": null,
   "metadata": {},
   "outputs": [],
   "source": [
    "test_profiles_usecase_1 = np.random.choice(train_data, 1) \n",
    "test_profiles_usecase_2 = ['Profile 10A Run 040618' ]\n",
    "test_profiles_usecase_3 = ['Profile 10A 3x']\n",
    "\n",
    "X_case_1, y_case_1, _ = util.prepare_hybrid_input(HYPER_PARAMS, test_profiles_usecase_1, 0, 4)\n",
    "X_case_2, y_case_2, _ = util.prepare_hybrid_input(HYPER_PARAMS, test_profiles_usecase_2, 0, 4)\n",
    "X_case_3, y_case_3, _ = util.prepare_hybrid_input(HYPER_PARAMS, test_profiles_usecase_3, 0, 4)"
   ]
  },
  {
   "cell_type": "markdown",
   "metadata": {},
   "source": [
    "### Test Model on Use Cases"
   ]
  },
  {
   "cell_type": "code",
   "execution_count": null,
   "metadata": {
    "scrolled": true
   },
   "outputs": [],
   "source": [
    "print('Use Case 1:', test_profiles_usecase_1)\n",
    "print('Use Case 2:', test_profiles_usecase_2)\n",
    "print('Use Case 3:', test_profiles_usecase_3)\n",
    "\n",
    "lstm.test_usecases(X_train, y_train, X_case_1, y_case_1, X_case_2, y_case_2, X_case_3, y_case_3, scalers_train)"
   ]
  },
  {
   "cell_type": "code",
   "execution_count": null,
   "metadata": {},
   "outputs": [],
   "source": []
  }
 ],
 "metadata": {
  "kernelspec": {
   "display_name": "battery-system",
   "language": "python",
   "name": "battery-system"
  },
  "language_info": {
   "codemirror_mode": {
    "name": "ipython",
    "version": 3
   },
   "file_extension": ".py",
   "mimetype": "text/x-python",
   "name": "python",
   "nbconvert_exporter": "python",
   "pygments_lexer": "ipython3",
   "version": "3.8.3"
  }
 },
 "nbformat": 4,
 "nbformat_minor": 4
}
