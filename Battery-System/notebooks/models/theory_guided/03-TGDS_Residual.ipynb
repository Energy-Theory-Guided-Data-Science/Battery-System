{
 "cells": [
  {
   "cell_type": "markdown",
   "metadata": {},
   "source": [
    "# TGDS Residual Learning"
   ]
  },
  {
   "cell_type": "code",
   "execution_count": null,
   "metadata": {
    "scrolled": false
   },
   "outputs": [],
   "source": [
    "import context\n",
    "import numpy as np\n",
    "import tensorflow as tf\n",
    "import matplotlib.pyplot as plt\n",
    "\n",
    "import src.data.data_preprocessing as util\n",
    "import src.models.lstm_model as lstm\n",
    "\n",
    "tf.compat.v1.set_random_seed(1)"
   ]
  },
  {
   "cell_type": "markdown",
   "metadata": {},
   "source": [
    "### Set Hyperparameters"
   ]
  },
  {
   "cell_type": "code",
   "execution_count": null,
   "metadata": {},
   "outputs": [],
   "source": [
    "HYPER_PARAMS = {'n_epochs': 3,\n",
    "                'use_case': 1,\n",
    "                'd_sample': 1,\n",
    "                'gauss_sigma': 10, \n",
    "                'feature_range_low': -1,\n",
    "                'feature_range_high': 1,\n",
    "                'n_steps': 50,\n",
    "                'n_features': 2,\n",
    "                'n_lstm_units_1': 50,\n",
    "                'alpha_1': 0.1,\n",
    "                'n_lstm_units_2': 20,\n",
    "                'alpha_2': 0.1,\n",
    "                'n_dense_units': 10,\n",
    "                'activation_output_layer': 'tanh',\n",
    "                'dropout': 0.2,\n",
    "                'learning_rate': 0.001,\n",
    "                'early_stopping': 20,\n",
    "                'optimizer': 'Adam',\n",
    "                'metric': 'mae',\n",
    "                'loss_funcs': ['residual']\n",
    "                }"
   ]
  },
  {
   "cell_type": "markdown",
   "metadata": {},
   "source": [
    "### Prepare Training/Validation/Test Data\n",
    "Training data can be modified to account for specific use cases. The prepare_data function is fed with the required profiles and will preprocess the sequence. Three use cases are predefined:\n",
    "###### 1. Use Case: Train and Test data are built from equal profiles\n",
    " The purpose is to find out if the network is able to accurately reproduce the seen profiles\n",
    "###### 2. Use Case: Train and Test data are of equal value range but different profiles\n",
    "The purpose is to find out if the network can abstract onto unseen profiles with similar characteristics\n",
    "###### 3. Use Case: Train and Test data are of different distributions\n",
    "The purpose is to find out if the network can abstract onto new value ranges and unseen profiles"
   ]
  },
  {
   "cell_type": "code",
   "execution_count": null,
   "metadata": {
    "scrolled": true
   },
   "outputs": [],
   "source": [
    "train_profiles_usecase_1 = ['Profile 10A']\n",
    "train_profiles_usecase_2 = ['Profile 10A']\n",
    "train_profiles_usecase_3 = ['Profile 10A']\n",
    "\n",
    "val_profiles_usecase_1 = ['Profile 10A']\n",
    "val_profiles_usecase_2 = ['Profile 10A Run 040618']\n",
    "val_profiles_usecase_3 = ['Profile 25A Run 040618']\n",
    "\n",
    "test_profiles_usecase_1 = ['Profile 10A']\n",
    "test_profiles_usecase_2 = ['Profile 10A Run 070618']\n",
    "test_profiles_usecase_3 = ['Profile 25A Run 070618']\n",
    "\n",
    "if HYPER_PARAMS['use_case'] == 1:\n",
    "    # use case 1\n",
    "    X_train, y_train, scalers_train = util.prepare_data(HYPER_PARAMS, train_profiles_usecase_1, 0, 4)\n",
    "    X_validation, y_validation, scalers_validation = util.prepare_data(HYPER_PARAMS, val_profiles_usecase_1, 0, 4)\n",
    "    X_test, y_test, scalers_test = util.prepare_data(HYPER_PARAMS, test_profiles_usecase_1, 0, 4)\n",
    "elif HYPER_PARAMS['use_case'] == 2:\n",
    "    # use case 2\n",
    "    X_train, y_train, scalers_train = util.prepare_data(HYPER_PARAMS, train_profiles_usecase_2, 0, 4)\n",
    "    X_validation, y_validation, scalers_validation = util.prepare_data(HYPER_PARAMS, val_profiles_usecase_2, 0, 4)\n",
    "    X_test, y_test, scalers_test = util.prepare_data(HYPER_PARAMS, test_profiles_usecase_2, 0, 4)\n",
    "elif HYPER_PARAMS['use_case'] == 3:\n",
    "    # use case 3\n",
    "    X_train, y_train, scalers_train = util.prepare_data(HYPER_PARAMS, train_profiles_usecase_3, 0, 4)\n",
    "    X_validation, y_validation, scalers_validation = util.prepare_data(HYPER_PARAMS, val_profiles_usecase_3, 0, 4)\n",
    "    X_test, y_test, scalers_test = util.prepare_data(HYPER_PARAMS, test_profiles_usecase_3, 0, 4)\n",
    "\n",
    "scalers = scalers_train, scalers_validation, scalers_test \n",
    "# scalers shape: ((train_cur, train_volt), (val_cur, val_volt), (test_cur, test_volt))"
   ]
  },
  {
   "cell_type": "markdown",
   "metadata": {},
   "source": [
    "### Prepare Data for Use Cases"
   ]
  },
  {
   "cell_type": "code",
   "execution_count": null,
   "metadata": {},
   "outputs": [],
   "source": [
    "test_profiles_usecase_1 = ['Profile 10A']\n",
    "test_profiles_usecase_2 = ['Profile 10A 3x']\n",
    "test_profiles_usecase_3 = ['Profile -10A']\n",
    "\n",
    "X_test_1, y_test_1, scalers_test_1 = util.prepare_data(HYPER_PARAMS, test_profiles_usecase_1, 0, 4)\n",
    "X_test_2, y_test_2, scalers_test_2 = util.prepare_data(HYPER_PARAMS, test_profiles_usecase_2, 0, 4)\n",
    "X_test_3, y_test_3, scalers_test_3 = util.prepare_data(HYPER_PARAMS, test_profiles_usecase_3, 0, 4)\n",
    "\n",
    "scalers_usecases = scalers_train, scalers_test_1, scalers_test_2, scalers_test_3 \n",
    "# scalers shape: ((train_cur, train_volt), (val_cur, val_volt), (test_cur, test_volt))"
   ]
  },
  {
   "cell_type": "markdown",
   "metadata": {},
   "source": [
    "### Initialize and Train Model"
   ]
  },
  {
   "cell_type": "code",
   "execution_count": null,
   "metadata": {
    "scrolled": true
   },
   "outputs": [],
   "source": [
    "lstm = lstm.Residual_Model()\n",
    "lstm.initialize(HYPER_PARAMS)"
   ]
  },
  {
   "cell_type": "code",
   "execution_count": null,
   "metadata": {},
   "outputs": [],
   "source": [
    "_, fig = lstm.train(X_train, y_train, scalers_train)\n",
    "\n",
    "# save model, hyperparameters and plots\n",
    "MODEL_ID = str(np.random.randint(10000))\n",
    "lstm.model.save('trained_models/TGDS/' + str(MODEL_ID))\n",
    "np.save('trained_models/TGDS/' + str(MODEL_ID) + '/hyperparameters', HYPER_PARAMS)\n",
    "fig.savefig('trained_models/TGDS/' + str(MODEL_ID) + '/learning_curve.png')"
   ]
  },
  {
   "cell_type": "markdown",
   "metadata": {},
   "source": [
    "### Test Model"
   ]
  },
  {
   "cell_type": "code",
   "execution_count": null,
   "metadata": {
    "scrolled": false
   },
   "outputs": [],
   "source": [
    "yhat_train_unscaled, fig = lstm.test(X_train, y_train, scalers)\n",
    "\n",
    "# save plots and predicted sequences\n",
    "fig.savefig('trained_models/TGDS/' + str(MODEL_ID) + '/train_profiles.png')\n",
    "np.save('trained_models/TGDS/' + str(MODEL_ID) + '/predictions', yhat_train_unscaled)"
   ]
  },
  {
   "cell_type": "code",
   "execution_count": null,
   "metadata": {},
   "outputs": [],
   "source": [
    "# lstm.test_usecases(X_train, y_train, X_test_1, y_test_1, X_test_2, y_test_2, X_test_3, y_test_3, scalers_usecases)"
   ]
  },
  {
   "cell_type": "code",
   "execution_count": null,
   "metadata": {},
   "outputs": [],
   "source": []
  }
 ],
 "metadata": {
  "kernelspec": {
   "display_name": "battery-system",
   "language": "python",
   "name": "battery-system"
  },
  "language_info": {
   "codemirror_mode": {
    "name": "ipython",
    "version": 3
   },
   "file_extension": ".py",
   "mimetype": "text/x-python",
   "name": "python",
   "nbconvert_exporter": "python",
   "pygments_lexer": "ipython3",
   "version": "3.8.3"
  }
 },
 "nbformat": 4,
 "nbformat_minor": 4
}
