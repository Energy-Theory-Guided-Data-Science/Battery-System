{
 "cells": [
  {
   "cell_type": "markdown",
   "metadata": {},
   "source": [
    "# TGDS Model using Residual Learning"
   ]
  },
  {
   "cell_type": "code",
   "execution_count": 1,
   "metadata": {
    "scrolled": false
   },
   "outputs": [
    {
     "name": "stderr",
     "output_type": "stream",
     "text": [
      "2023-01-23 15:37:19.151241: I tensorflow/core/platform/cpu_feature_guard.cc:193] This TensorFlow binary is optimized with oneAPI Deep Neural Network Library (oneDNN) to use the following CPU instructions in performance-critical operations:  AVX2 FMA\n",
      "To enable them in other operations, rebuild TensorFlow with the appropriate compiler flags.\n",
      "2023-01-23 15:37:19.638372: E tensorflow/stream_executor/cuda/cuda_blas.cc:2981] Unable to register cuBLAS factory: Attempting to register factory for plugin cuBLAS when one has already been registered\n",
      "2023-01-23 15:37:20.949981: W tensorflow/stream_executor/platform/default/dso_loader.cc:64] Could not load dynamic library 'libnvinfer.so.7'; dlerror: libnvinfer.so.7: cannot open shared object file: No such file or directory; LD_LIBRARY_PATH: /usr/local/cuda/lib64:$LD_LIBRARY_PATH:/home/i40/bielskip/miniconda3/envs/battery-system/lib/\n",
      "2023-01-23 15:37:20.950138: W tensorflow/stream_executor/platform/default/dso_loader.cc:64] Could not load dynamic library 'libnvinfer_plugin.so.7'; dlerror: libnvinfer_plugin.so.7: cannot open shared object file: No such file or directory; LD_LIBRARY_PATH: /usr/local/cuda/lib64:$LD_LIBRARY_PATH:/home/i40/bielskip/miniconda3/envs/battery-system/lib/\n",
      "2023-01-23 15:37:20.950148: W tensorflow/compiler/tf2tensorrt/utils/py_utils.cc:38] TF-TRT Warning: Cannot dlopen some TensorRT libraries. If you would like to use Nvidia GPU with TensorRT, please make sure the missing libraries mentioned above are installed properly.\n"
     ]
    }
   ],
   "source": [
    "import context\n",
    "import numpy as np\n",
    "import tensorflow as tf\n",
    "import matplotlib.pyplot as plt\n",
    "import pandas as pd\n",
    "import datetime\n",
    "import sys, os\n",
    "from numba import cuda\n",
    "\n",
    "import src.data.data_preprocessing as util\n",
    "import src.models.lstm_residual_model as lstm\n",
    "import src.models.thevenin_model as thevenin\n",
    "\n",
    "tf.compat.v1.set_random_seed(1)\n",
    "os.environ[\"CUDA_VISIBLE_DEVICES\"]=\"0\""
   ]
  },
  {
   "cell_type": "markdown",
   "metadata": {},
   "source": [
    "### Set Hyperparameters"
   ]
  },
  {
   "cell_type": "code",
   "execution_count": 2,
   "metadata": {},
   "outputs": [],
   "source": [
    "# load general hyperparameters\n",
    "HYPER_PARAMS =  np.load('../../../models/training_setup/hyperparameters.npy', allow_pickle=True)\n",
    "HYPER_PARAMS = HYPER_PARAMS.item()\n",
    "\n",
    "# add aditional model-spefic hyperparameters\n",
    "model_hyperparameters = {\n",
    "    'n_features': 2,       # number of input features\n",
    "    'd_t': 0.25,           # current integration factor\n",
    "    'theory_model': 2228,  # the unique thevenin model ID for which the parameters have been computed\n",
    "}\n",
    "\n",
    "# update hyperparameters\n",
    "HYPER_PARAMS.update(model_hyperparameters)"
   ]
  },
  {
   "cell_type": "markdown",
   "metadata": {},
   "source": [
    "### Prepare Training/Validation/Test Data"
   ]
  },
  {
   "cell_type": "code",
   "execution_count": 3,
   "metadata": {
    "scrolled": true
   },
   "outputs": [
    {
     "name": "stdout",
     "output_type": "stream",
     "text": [
      "Input: (46750, 100, 2)  Output/Label: (46750, 1)\n",
      "Input: (1500, 100, 2)  Output/Label: (1500, 1)\n",
      "Input: (1450, 100, 2)  Output/Label: (1450, 1)\n"
     ]
    }
   ],
   "source": [
    "# load training sets dictionary\n",
    "TRAINING_SETS =  np.load('../../../models/training_setup/training_sets.npy', allow_pickle=True)\n",
    "TRAINING_SETS = TRAINING_SETS.item()\n",
    "\n",
    "# select correct training set\n",
    "training_sets = TRAINING_SETS['10A_all']\n",
    "\n",
    "# create training data\n",
    "train_data = []\n",
    "for set in training_sets:\n",
    "    set_repeat = [set] * HYPER_PARAMS['num_repeat']\n",
    "    train_data += set_repeat\n",
    "train_data = np.array(train_data)\n",
    "\n",
    "# select first profile for validation\n",
    "validation_profile = [train_data[0]]\n",
    "\n",
    "# select arbitrary profile for testing\n",
    "test_profile = np.random.choice(train_data, 1) \n",
    "\n",
    "# prepare input data\n",
    "X_train, y_train, u_train, scalers_train = util.prepare_residual_input(HYPER_PARAMS, train_data, HYPER_PARAMS['stack'], HYPER_PARAMS['cell'])\n",
    "X_validation, y_validation, u_validation, _ = util.prepare_residual_input(HYPER_PARAMS, validation_profile, HYPER_PARAMS['stack'], HYPER_PARAMS['cell'])\n",
    "X_test, y_test, u_test, _ = util.prepare_residual_input(HYPER_PARAMS, test_profile, HYPER_PARAMS['stack'], HYPER_PARAMS['cell'])"
   ]
  },
  {
   "cell_type": "markdown",
   "metadata": {},
   "source": [
    "### Initialize and Train Model"
   ]
  },
  {
   "cell_type": "code",
   "execution_count": 4,
   "metadata": {},
   "outputs": [
    {
     "name": "stderr",
     "output_type": "stream",
     "text": [
      "2023-01-23 15:37:47.850192: I tensorflow/stream_executor/cuda/cuda_gpu_executor.cc:980] successful NUMA node read from SysFS had negative value (-1), but there must be at least one NUMA node, so returning NUMA node zero\n",
      "2023-01-23 15:37:48.092902: I tensorflow/stream_executor/cuda/cuda_gpu_executor.cc:980] successful NUMA node read from SysFS had negative value (-1), but there must be at least one NUMA node, so returning NUMA node zero\n",
      "2023-01-23 15:37:48.093405: I tensorflow/stream_executor/cuda/cuda_gpu_executor.cc:980] successful NUMA node read from SysFS had negative value (-1), but there must be at least one NUMA node, so returning NUMA node zero\n",
      "2023-01-23 15:37:48.102132: I tensorflow/core/platform/cpu_feature_guard.cc:193] This TensorFlow binary is optimized with oneAPI Deep Neural Network Library (oneDNN) to use the following CPU instructions in performance-critical operations:  AVX2 FMA\n",
      "To enable them in other operations, rebuild TensorFlow with the appropriate compiler flags.\n",
      "2023-01-23 15:37:48.106122: I tensorflow/stream_executor/cuda/cuda_gpu_executor.cc:980] successful NUMA node read from SysFS had negative value (-1), but there must be at least one NUMA node, so returning NUMA node zero\n",
      "2023-01-23 15:37:48.106836: I tensorflow/stream_executor/cuda/cuda_gpu_executor.cc:980] successful NUMA node read from SysFS had negative value (-1), but there must be at least one NUMA node, so returning NUMA node zero\n",
      "2023-01-23 15:37:48.107062: I tensorflow/stream_executor/cuda/cuda_gpu_executor.cc:980] successful NUMA node read from SysFS had negative value (-1), but there must be at least one NUMA node, so returning NUMA node zero\n",
      "2023-01-23 15:37:49.313769: I tensorflow/stream_executor/cuda/cuda_gpu_executor.cc:980] successful NUMA node read from SysFS had negative value (-1), but there must be at least one NUMA node, so returning NUMA node zero\n",
      "2023-01-23 15:37:49.314585: I tensorflow/stream_executor/cuda/cuda_gpu_executor.cc:980] successful NUMA node read from SysFS had negative value (-1), but there must be at least one NUMA node, so returning NUMA node zero\n",
      "2023-01-23 15:37:49.314793: I tensorflow/stream_executor/cuda/cuda_gpu_executor.cc:980] successful NUMA node read from SysFS had negative value (-1), but there must be at least one NUMA node, so returning NUMA node zero\n",
      "2023-01-23 15:37:49.315362: I tensorflow/core/common_runtime/gpu/gpu_device.cc:1616] Created device /job:localhost/replica:0/task:0/device:GPU:0 with 6074 MB memory:  -> device: 0, name: NVIDIA GeForce RTX 3090, pci bus id: 0000:81:00.0, compute capability: 8.6\n"
     ]
    },
    {
     "name": "stdout",
     "output_type": "stream",
     "text": [
      "Model: \"Residual_LSTM\"\n",
      "_________________________________________________________________\n",
      " Layer (type)                Output Shape              Param #   \n",
      "=================================================================\n",
      " lstm (LSTM)                 (None, 100, 50)           10600     \n",
      "                                                                 \n",
      " leaky_re_lu (LeakyReLU)     (None, 100, 50)           0         \n",
      "                                                                 \n",
      " lstm_1 (LSTM)               (None, 20)                5680      \n",
      "                                                                 \n",
      " leaky_re_lu_1 (LeakyReLU)   (None, 20)                0         \n",
      "                                                                 \n",
      " dense (Dense)               (None, 1)                 21        \n",
      "                                                                 \n",
      "=================================================================\n",
      "Total params: 16,301\n",
      "Trainable params: 16,301\n",
      "Non-trainable params: 0\n",
      "_________________________________________________________________\n"
     ]
    }
   ],
   "source": [
    "lstm = lstm.Residual_Model()\n",
    "lstm.initialize(HYPER_PARAMS)"
   ]
  },
  {
   "cell_type": "code",
   "execution_count": null,
   "metadata": {
    "scrolled": true
   },
   "outputs": [
    {
     "name": "stdout",
     "output_type": "stream",
     "text": [
      "Epoch 1/20\n"
     ]
    },
    {
     "name": "stderr",
     "output_type": "stream",
     "text": [
      "2023-01-23 15:37:52.054531: I tensorflow/stream_executor/cuda/cuda_dnn.cc:384] Loaded cuDNN version 8100\n",
      "2023-01-23 15:37:54.769896: I tensorflow/stream_executor/cuda/cuda_blas.cc:1614] TensorFloat-32 will be used for the matrix multiplication. This will only be logged once.\n"
     ]
    },
    {
     "name": "stdout",
     "output_type": "stream",
     "text": [
      " 171/1461 [==>...........................] - ETA: 1:04 - loss: 0.0034 - mse: 0.0034 - mae: 0.0417"
     ]
    }
   ],
   "source": [
    "_, fig = lstm.train(HYPER_PARAMS, X_train, y_train, scalers_train)\n",
    "\n",
    "# save model, hyperparameters and plots\n",
    "MODEL_ID = str(np.random.randint(10000))\n",
    "\n",
    "lstm.model.save('../../../models/TGDS/' + str(MODEL_ID))\n",
    "np.save('../../../models/TGDS/' + str(MODEL_ID) + '/hyperparameters', HYPER_PARAMS)\n",
    "fig.savefig('../../../reports/figures/theory_guided_residual-' + str(MODEL_ID) + '-learning_curve.png')"
   ]
  },
  {
   "cell_type": "markdown",
   "metadata": {},
   "source": [
    "### Test Model"
   ]
  },
  {
   "cell_type": "code",
   "execution_count": null,
   "metadata": {
    "scrolled": false
   },
   "outputs": [],
   "source": [
    "print('Validation Profile:', validation_profile)\n",
    "print('Test Profile:', test_profile)\n",
    "\n",
    "yhat_plus_uhat_val_unscaled, fig = lstm.test(X_train, y_train, u_train, X_validation, y_validation, u_validation, X_test, y_test, u_test, scalers_train)\n",
    "\n",
    "# save plots and predicted sequences\n",
    "np.save('../../../models/TGDS/' + str(MODEL_ID) + '/predictions', yhat_plus_uhat_val_unscaled)\n",
    "fig.savefig('../../../reports/figures/theory_guided_residual-' + str(MODEL_ID) + '-validation&test_profiles.png')"
   ]
  },
  {
   "cell_type": "markdown",
   "metadata": {},
   "source": [
    "### Prepare Data for Use Cases"
   ]
  },
  {
   "cell_type": "code",
   "execution_count": null,
   "metadata": {},
   "outputs": [],
   "source": [
    "# load test sets dictionary\n",
    "TEST_SETS =  np.load('../../../models/training_setup/test_sets.npy', allow_pickle=True)\n",
    "TEST_SETS = TEST_SETS.item()\n",
    "\n",
    "# select needed test profiles\n",
    "test_profiles_usecase_1 = TEST_SETS['Reproduction']\n",
    "test_profiles_usecase_2 = TEST_SETS['Abstraction']\n",
    "test_profiles_usecase_3 = TEST_SETS['Generalization']\n",
    "\n",
    "# prepare input data\n",
    "X_case_1, y_case_1, u_case_1, _ = util.prepare_residual_input(HYPER_PARAMS, test_profiles_usecase_1, HYPER_PARAMS['stack'], HYPER_PARAMS['cell'])\n",
    "X_case_2, y_case_2, u_case_2, _ = util.prepare_residual_input(HYPER_PARAMS, test_profiles_usecase_2, HYPER_PARAMS['stack'], HYPER_PARAMS['cell'])\n",
    "X_case_3, y_case_3, u_case_3, _ = util.prepare_residual_input(HYPER_PARAMS, test_profiles_usecase_3, HYPER_PARAMS['stack'], HYPER_PARAMS['cell'])"
   ]
  },
  {
   "cell_type": "code",
   "execution_count": null,
   "metadata": {},
   "outputs": [],
   "source": [
    "print('Use Case 1:', test_profiles_usecase_1)\n",
    "print('Use Case 2:', test_profiles_usecase_2)\n",
    "print('Use Case 3:', test_profiles_usecase_3)\n",
    "\n",
    "train_mse, case_1_mse, case_2_mse, case_3_mse, fig = lstm.test_usecases(X_train, y_train, u_train, X_case_1, y_case_1, u_case_1, X_case_2, y_case_2, u_case_2, X_case_3, y_case_3, u_case_3, scalers_train)"
   ]
  },
  {
   "cell_type": "code",
   "execution_count": null,
   "metadata": {},
   "outputs": [],
   "source": [
    "fig.savefig('../../../reports/figures/data_baseline-' + str(MODEL_ID) + '-use_cases.png')\n",
    "columns = [\"Name\", \"Timestamp\", \"Model ID\", \"Train MSE\", \"Case 1 MSE\", \"Case 2 MSE\", \"Case 3 MSE\"]\n",
    "df = pd.DataFrame(columns=columns)\n",
    "\n",
    "timestamp = datetime.datetime.now().isoformat(sep=\" \", timespec=\"seconds\")\n",
    "\n",
    "new_df = pd.DataFrame([[\"Residual\", timestamp, MODEL_ID, train_mse, case_1_mse, case_2_mse, case_3_mse]], columns=columns)\n",
    "\n",
    "df = pd.concat(([df, new_df]))\n",
    "df.to_csv('../../../reports/results/experiments.csv', mode='a', float_format='%.10f', index=False, header=False)"
   ]
  },
  {
   "cell_type": "code",
   "execution_count": null,
   "metadata": {},
   "outputs": [],
   "source": [
    "device = cuda.get_current_device()\n",
    "device.reset()"
   ]
  }
 ],
 "metadata": {
  "kernelspec": {
   "display_name": "Python 3 (ipykernel)",
   "language": "python",
   "name": "python3"
  },
  "language_info": {
   "codemirror_mode": {
    "name": "ipython",
    "version": 3
   },
   "file_extension": ".py",
   "mimetype": "text/x-python",
   "name": "python",
   "nbconvert_exporter": "python",
   "pygments_lexer": "ipython3",
   "version": "3.8.3"
  }
 },
 "nbformat": 4,
 "nbformat_minor": 4
}
