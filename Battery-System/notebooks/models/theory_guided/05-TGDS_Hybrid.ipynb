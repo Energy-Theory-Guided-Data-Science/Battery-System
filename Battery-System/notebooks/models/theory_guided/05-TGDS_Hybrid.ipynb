{
 "cells": [
  {
   "cell_type": "markdown",
   "metadata": {},
   "source": [
    "# TGDS Hybrid Model"
   ]
  },
  {
   "cell_type": "code",
   "execution_count": null,
   "metadata": {},
   "outputs": [],
   "source": [
    "import context\n",
    "import numpy as np\n",
    "import tensorflow as tf\n",
    "import matplotlib.pyplot as plt\n",
    "\n",
    "import src.data.data_preprocessing as util\n",
    "import src.models.lstm_model as lstm\n",
    "\n",
    "tf.compat.v1.set_random_seed(1)"
   ]
  },
  {
   "cell_type": "markdown",
   "metadata": {},
   "source": [
    "### Set Hyperparameters"
   ]
  },
  {
   "cell_type": "code",
   "execution_count": null,
   "metadata": {},
   "outputs": [],
   "source": [
    "# load general hyperparameters\n",
    "HYPER_PARAMS =  np.load('../../../models/training_setup/hyperparameters.npy', allow_pickle=True)\n",
    "HYPER_PARAMS = HYPER_PARAMS.item()\n",
    "\n",
    "# add aditional model-spefic hyperparameters\n",
    "model_hyperparameters = {\n",
    "    'n_features': 3,      # number of input features\n",
    "    'd_t': 0.2,           # current integration factor\n",
    "    'num_repeat': 10,     # repetition factor for each training profile to create more auxiliary data\n",
    "    'theory_model': 2228, # the unique thevenin model ID for which the parameters have been computed\n",
    "    'n_epochs': 4,\n",
    "}\n",
    "\n",
    "# update hyperparameters\n",
    "HYPER_PARAMS.update(model_hyperparameters)"
   ]
  },
  {
   "cell_type": "markdown",
   "metadata": {},
   "source": [
    "### Prepare Training/Validation/Test Data"
   ]
  },
  {
   "cell_type": "code",
   "execution_count": null,
   "metadata": {
    "scrolled": true
   },
   "outputs": [],
   "source": [
    "# load training sets dictionary\n",
    "TRAINING_SETS =  np.load('../../../models/training_setup/training_sets.npy', allow_pickle=True)\n",
    "TRAINING_SETS = TRAINING_SETS.item()\n",
    "\n",
    "# select correct training set\n",
    "training_sets = TRAINING_SETS['10A_all'] \n",
    "\n",
    "# create training data\n",
    "train_data = []\n",
    "for set in training_sets:\n",
    "    set_repeat = [set] * HYPER_PARAMS['num_repeat']\n",
    "    train_data += set_repeat\n",
    "train_data = np.array(train_data)\n",
    "\n",
    "# select first profile for validation\n",
    "validation_profile = [train_data[0]]\n",
    "\n",
    "# select arbitrary profile for testing\n",
    "test_profile = np.random.choice(train_data, 1) \n",
    "\n",
    "# prepare input data\n",
    "X_train, y_train, scalers_train = util.prepare_hybrid_input(HYPER_PARAMS, train_data, HYPER_PARAMS['stack'], HYPER_PARAMS['cell'])\n",
    "X_validation, y_validation, _ = util.prepare_hybrid_input(HYPER_PARAMS, validation_profile, HYPER_PARAMS['stack'], HYPER_PARAMS['cell'])\n",
    "X_test, y_test, _ = util.prepare_hybrid_input(HYPER_PARAMS, test_profile, HYPER_PARAMS['stack'], HYPER_PARAMS['cell'])"
   ]
  },
  {
   "cell_type": "markdown",
   "metadata": {},
   "source": [
    "### Initialize and Train Model"
   ]
  },
  {
   "cell_type": "code",
   "execution_count": null,
   "metadata": {},
   "outputs": [],
   "source": [
    "lstm = lstm.Model()\n",
    "lstm.initialize(HYPER_PARAMS)"
   ]
  },
  {
   "cell_type": "code",
   "execution_count": null,
   "metadata": {
    "scrolled": true
   },
   "outputs": [],
   "source": [
    "_, fig = lstm.train(X_train, y_train, scalers_train)\n",
    "\n",
    "# save model, hyperparameters and plots\n",
    "MODEL_ID = str(np.random.randint(10000))\n",
    "\n",
    "lstm.model.save('../../../models/TGDS/' + str(MODEL_ID))\n",
    "np.save('../../../models/TGDS/' + str(MODEL_ID) + '/hyperparameters', HYPER_PARAMS)\n",
    "fig.savefig('../../../reports/figures/theory_guided_hybrid-' + str(MODEL_ID) + '-learning_curve.png')"
   ]
  },
  {
   "cell_type": "markdown",
   "metadata": {},
   "source": [
    "### Test Model"
   ]
  },
  {
   "cell_type": "code",
   "execution_count": null,
   "metadata": {
    "scrolled": false
   },
   "outputs": [],
   "source": [
    "print('Validation Profile:', validation_profile)\n",
    "print('Test Profile:', test_profile)\n",
    "\n",
    "yhat_train_unscaled, _, _, fig = lstm.test(X_train, y_train, X_validation, y_validation, X_test, y_test, scalers_train)\n",
    "\n",
    "# save plots and predicted sequences\n",
    "np.save('../../../models/TGDS/' + str(MODEL_ID) + '/predictions', yhat_train_unscaled)\n",
    "fig.savefig('../../../reports/figures/theory_guided_hybrid-' + str(MODEL_ID) + '-validation&test_profiles.png')"
   ]
  },
  {
   "cell_type": "markdown",
   "metadata": {},
   "source": [
    "### Prepare Data for Use Cases"
   ]
  },
  {
   "cell_type": "code",
   "execution_count": null,
   "metadata": {},
   "outputs": [],
   "source": [
    "# load test sets dictionary\n",
    "TEST_SETS =  np.load('../../../models/training_setup/test_sets.npy', allow_pickle=True)\n",
    "TEST_SETS = TEST_SETS.item()\n",
    "\n",
    "# select needed test profiles\n",
    "test_profiles_usecase_1 = TEST_SETS['Reproduction']\n",
    "test_profiles_usecase_2 = TEST_SETS['Abstraction']\n",
    "test_profiles_usecase_3 = TEST_SETS['Generalization']\n",
    "\n",
    "# prepare input data\n",
    "X_case_1, y_case_1, _ = util.prepare_hybrid_input(HYPER_PARAMS, test_profiles_usecase_1, HYPER_PARAMS['stack'], HYPER_PARAMS['cell'])\n",
    "X_case_2, y_case_2, _ = util.prepare_hybrid_input(HYPER_PARAMS, test_profiles_usecase_2, HYPER_PARAMS['stack'], HYPER_PARAMS['cell'])\n",
    "X_case_3, y_case_3, _ = util.prepare_hybrid_input(HYPER_PARAMS, test_profiles_usecase_3, HYPER_PARAMS['stack'], HYPER_PARAMS['cell'])"
   ]
  },
  {
   "cell_type": "markdown",
   "metadata": {},
   "source": [
    "### Test Model on Use Cases"
   ]
  },
  {
   "cell_type": "code",
   "execution_count": null,
   "metadata": {
    "scrolled": true
   },
   "outputs": [],
   "source": [
    "print('Use Case 1:', test_profiles_usecase_1)\n",
    "print('Use Case 2:', test_profiles_usecase_2)\n",
    "print('Use Case 3:', test_profiles_usecase_3)\n",
    "\n",
    "_ = lstm.test_usecases(X_train, y_train, X_case_1, y_case_1, X_case_2, y_case_2, X_case_3, y_case_3, scalers_train)"
   ]
  },
  {
   "cell_type": "code",
   "execution_count": null,
   "metadata": {},
   "outputs": [],
   "source": []
  }
 ],
 "metadata": {
  "kernelspec": {
   "display_name": "battery-system",
   "language": "python",
   "name": "battery-system"
  },
  "language_info": {
   "codemirror_mode": {
    "name": "ipython",
    "version": 3
   },
   "file_extension": ".py",
   "mimetype": "text/x-python",
   "name": "python",
   "nbconvert_exporter": "python",
   "pygments_lexer": "ipython3",
   "version": "3.8.3"
  }
 },
 "nbformat": 4,
 "nbformat_minor": 4
}
