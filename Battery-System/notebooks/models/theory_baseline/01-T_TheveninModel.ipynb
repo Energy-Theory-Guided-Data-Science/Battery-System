{
 "cells": [
  {
   "cell_type": "markdown",
   "metadata": {},
   "source": [
    "# Thevenin EC-Model\n",
    "This model is build following the procedure presented by G. Plett in his course on Equivalent Circuit (EC) Models (http://mocha-java.uccs.edu/ECE5710/index.html)"
   ]
  },
  {
   "cell_type": "markdown",
   "metadata": {},
   "source": [
    "### Imports"
   ]
  },
  {
   "cell_type": "code",
   "execution_count": null,
   "metadata": {},
   "outputs": [],
   "source": [
    "import context\n",
    "import time\n",
    "import matplotlib.pyplot as plt\n",
    "import numpy as np\n",
    "\n",
    "import src.models.thevenin_model as thevenin"
   ]
  },
  {
   "cell_type": "markdown",
   "metadata": {},
   "source": [
    "### Set hyperparameters"
   ]
  },
  {
   "cell_type": "code",
   "execution_count": null,
   "metadata": {},
   "outputs": [],
   "source": [
    "HYPER_PARAMETERS = {\n",
    "    'gauss_sigma': 10,        # smoothing factor\n",
    "    'd_sample': 2,            # subsampling ratio\n",
    "    'stack': 0,               # battery stack used to extract the data from\n",
    "    'cell': 4,                # specific battery cell to extract the data from          \n",
    "    'convergence_steps': 50,  # time steps until the steady state is reached\n",
    "}\n",
    "\n",
    "TRAIN_PROFILE = 'Profile 10A'\n",
    "t_0 = time.time()"
   ]
  },
  {
   "cell_type": "markdown",
   "metadata": {},
   "source": [
    "### Load Profile"
   ]
  },
  {
   "cell_type": "code",
   "execution_count": null,
   "metadata": {},
   "outputs": [],
   "source": [
    "train_current, train_voltage = thevenin.load_profile(TRAIN_PROFILE, HYPER_PARAMETERS, visualize = True)"
   ]
  },
  {
   "cell_type": "markdown",
   "metadata": {},
   "source": [
    "## Compute Model Parameters"
   ]
  },
  {
   "attachments": {
    "image.png": {
     "image/png": "[encoded data removed]"
    }
   },
   "cell_type": "markdown",
   "metadata": {},
   "source": [
    "### Step 1: Instantaneuos Voltage Change to deduce $R_0$\n",
    "![image.png](attachment:image.png)"
   ]
  },
  {
   "cell_type": "code",
   "execution_count": null,
   "metadata": {},
   "outputs": [],
   "source": [
    "r_0, delta_i, max_volt_change_index = thevenin.identify_instant_volt_change(train_current, train_voltage)"
   ]
  },
  {
   "attachments": {
    "image.png": {
     "image/png": "[encoded data removed]"
    }
   },
   "cell_type": "markdown",
   "metadata": {},
   "source": [
    "### Step 2: Steady State Voltage Change to deduce $R_1$\n",
    "![image.png](attachment:image.png)"
   ]
  },
  {
   "cell_type": "code",
   "execution_count": null,
   "metadata": {},
   "outputs": [],
   "source": [
    "r_1, max_decrease_index, steady_state_time, max_voltage_index, steady_state_index = thevenin.identify_steady_state_voltage_change(train_current, train_voltage, r_0, delta_i, max_volt_change_index, HYPER_PARAMETERS)"
   ]
  },
  {
   "attachments": {
    "image.png": {
     "image/png": "[encoded data removed]"
    }
   },
   "cell_type": "markdown",
   "metadata": {},
   "source": [
    "### Step 3: Time to decay to Steady State to deduce $C_1$\n",
    "![image.png](attachment:image.png)"
   ]
  },
  {
   "cell_type": "code",
   "execution_count": null,
   "metadata": {},
   "outputs": [],
   "source": [
    "c_1 = thevenin.identify_steady_state_time(train_current, train_voltage, r_1, max_decrease_index, steady_state_time, max_voltage_index, steady_state_index)\n",
    "\n",
    "t_delta = time.time() - t_0\n",
    "print('Training Time(s):', round(t_delta, 3))"
   ]
  },
  {
   "cell_type": "markdown",
   "metadata": {},
   "source": [
    "### Save Parameters"
   ]
  },
  {
   "cell_type": "code",
   "execution_count": null,
   "metadata": {},
   "outputs": [],
   "source": [
    "parameters = {\n",
    "    'r_0': r_0,\n",
    "    'r_1': r_1,\n",
    "    'c_1': c_1,\n",
    "}\n",
    "\n",
    "MODEL_ID = str(np.random.randint(10000))\n",
    "np.save('../../../models/T/theory_baseline-' + str(MODEL_ID) + '-parameters', parameters)\n",
    "np.save('../../../models/T/theory_baseline-' + str(MODEL_ID) + '-hyperparameters', HYPER_PARAMETERS)\n",
    "print('Model saved to /models/T/theory_baseline-' + str(MODEL_ID) +'...')"
   ]
  },
  {
   "cell_type": "markdown",
   "metadata": {},
   "source": [
    "## SOC OCV relationship"
   ]
  },
  {
   "cell_type": "code",
   "execution_count": null,
   "metadata": {
    "scrolled": true
   },
   "outputs": [],
   "source": [
    "_ = thevenin.plot_OCV_curve()"
   ]
  },
  {
   "attachments": {
    "image.png": {
     "image/png": "[encoded data removed]"
    }
   },
   "cell_type": "markdown",
   "metadata": {},
   "source": [
    "## Voltage Prediction\n",
    "![image.png](attachment:image.png)"
   ]
  },
  {
   "cell_type": "code",
   "execution_count": null,
   "metadata": {},
   "outputs": [],
   "source": [
    "yhat = thevenin.vis_predict(TRAIN_PROFILE, r_0, r_1, c_1, HYPER_PARAMETERS)"
   ]
  },
  {
   "cell_type": "markdown",
   "metadata": {},
   "source": [
    "## Test Profile"
   ]
  },
  {
   "cell_type": "code",
   "execution_count": null,
   "metadata": {},
   "outputs": [],
   "source": [
    "TEST_PROFILE = 'Profile 10A'\n",
    "yhat = thevenin.vis_predict(TEST_PROFILE, r_0, r_1, c_1, HYPER_PARAMETERS)"
   ]
  },
  {
   "cell_type": "markdown",
   "metadata": {},
   "source": [
    "## Test Use Cases"
   ]
  },
  {
   "cell_type": "code",
   "execution_count": null,
   "metadata": {},
   "outputs": [],
   "source": [
    "profiles = ['Profile 10A', 'Profile 10A 3x', 'Profile -10A']\n",
    "yhat = thevenin.vis_predict_usecases(profiles, r_0, r_1, c_1, HYPER_PARAMETERS)"
   ]
  },
  {
   "cell_type": "code",
   "execution_count": null,
   "metadata": {},
   "outputs": [],
   "source": []
  }
 ],
 "metadata": {
  "kernelspec": {
   "display_name": "battery-system",
   "language": "python",
   "name": "battery-system"
  },
  "language_info": {
   "codemirror_mode": {
    "name": "ipython",
    "version": 3
   },
   "file_extension": ".py",
   "mimetype": "text/x-python",
   "name": "python",
   "nbconvert_exporter": "python",
   "pygments_lexer": "ipython3",
   "version": "3.8.3"
  }
 },
 "nbformat": 4,
 "nbformat_minor": 4
}
